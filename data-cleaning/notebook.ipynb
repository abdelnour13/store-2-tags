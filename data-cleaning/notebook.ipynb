{
 "cells": [
  {
   "cell_type": "markdown",
   "id": "8670dc4d-5d1a-428b-a045-e62423a4e8af",
   "metadata": {},
   "source": [
    "# Data cleaning"
   ]
  },
  {
   "cell_type": "markdown",
   "id": "569ddb91-9bbb-41c1-adbb-8af5f431e935",
   "metadata": {},
   "source": [
    "## Outline\n",
    "- [Necessary packages](#necessary_packages)\n",
    "- [Data loading](#data_loading)\n",
    "- [Getting familiar with the data](#getting_familiar_with_the_data)\n",
    "- [Columns renaming](#columns_renaming)\n",
    "- [Handeling missing data](#handeling_missing_data)\n",
    "- [Handeling duplicates](#handeling_duplicates)\n",
    "- [Dropping irrelevant columns](#dropping_irrelevant_columns)\n",
    "- [Types correction](#types_correction)\n",
    "- [Text cleaning and preprocessing](#text_cleaning_and_preprocessing)\n",
    "- [Labels preprocessing](#labels_preprocessing)\n",
    "- [Save the results to the disk](#save_to_disk)\n",
    "- [Notes](#notes)"
   ]
  },
  {
   "cell_type": "markdown",
   "id": "dff189aa-af69-4fba-b765-47f97a0e9c34",
   "metadata": {},
   "source": [
    "<div id=\"necessary_packages\" >\n",
    "    <h3>Necessary packages</h3>\n",
    "</div>"
   ]
  },
  {
   "cell_type": "code",
   "execution_count": 15,
   "id": "5cf11625-4db7-4bb8-a292-fed3c1be8dc0",
   "metadata": {},
   "outputs": [],
   "source": [
    "import numpy as np\n",
    "import pandas as pd\n",
    "import scipy as sp\n",
    "import nltk\n",
    "import os\n",
    "import string\n",
    "import re\n",
    "import json\n",
    "import shutil\n",
    "from tqdm.notebook import tqdm"
   ]
  },
  {
   "cell_type": "code",
   "execution_count": 2,
   "id": "d111c025-f1f6-4cf9-87c0-d56b36468a92",
   "metadata": {},
   "outputs": [
    {
     "name": "stderr",
     "output_type": "stream",
     "text": [
      "[nltk_data] Downloading package averaged_perceptron_tagger to\n",
      "[nltk_data]     /home/abdelnour/nltk_data...\n",
      "[nltk_data]   Package averaged_perceptron_tagger is already up-to-\n",
      "[nltk_data]       date!\n",
      "[nltk_data] Downloading package wordnet to\n",
      "[nltk_data]     /home/abdelnour/nltk_data...\n",
      "[nltk_data]   Package wordnet is already up-to-date!\n",
      "[nltk_data] Downloading package stopwords to\n",
      "[nltk_data]     /home/abdelnour/nltk_data...\n",
      "[nltk_data]   Package stopwords is already up-to-date!\n",
      "[nltk_data] Downloading package punkt to /home/abdelnour/nltk_data...\n",
      "[nltk_data]   Package punkt is already up-to-date!\n"
     ]
    },
    {
     "data": {
      "text/plain": [
       "True"
      ]
     },
     "execution_count": 2,
     "metadata": {},
     "output_type": "execute_result"
    }
   ],
   "source": [
    "nltk.download('averaged_perceptron_tagger')\n",
    "nltk.download('wordnet')\n",
    "nltk.download('stopwords')\n",
    "nltk.download('punkt')"
   ]
  },
  {
   "cell_type": "code",
   "execution_count": 3,
   "id": "02e356dc-7c68-4364-806b-986993049f89",
   "metadata": {},
   "outputs": [],
   "source": [
    "tqdm.pandas()"
   ]
  },
  {
   "cell_type": "markdown",
   "id": "d264f2f6-4cf7-48c0-a29c-ea44a48dfed1",
   "metadata": {},
   "source": [
    "<div id=\"data_loading\" >\n",
    "    <h3>Data loading</h3>\n",
    "</div>"
   ]
  },
  {
   "cell_type": "code",
   "execution_count": 23,
   "id": "16990720-cdfd-4efd-884d-1d68ef752b50",
   "metadata": {},
   "outputs": [],
   "source": [
    "path = os.path.join(\"..\",\"data\", \"stores_data.csv\")"
   ]
  },
  {
   "cell_type": "code",
   "execution_count": 24,
   "id": "49add81e-7f98-498c-b268-55d2f575ad20",
   "metadata": {},
   "outputs": [],
   "source": [
    "df = pd.read_csv(filepath_or_buffer=path,lineterminator=\"\\n\")"
   ]
  },
  {
   "cell_type": "markdown",
   "id": "da76eca5-55ff-4628-86ea-7b57a718d78b",
   "metadata": {},
   "source": [
    "<div id=\"getting_familiar_with_the_data\" >\n",
    "    <h3>Getting familiar with the data</h3>\n",
    "</div> "
   ]
  },
  {
   "cell_type": "code",
   "execution_count": 6,
   "id": "e24c14bc-8ac9-4b0d-9cbb-9a9e83d97572",
   "metadata": {},
   "outputs": [
    {
     "data": {
      "text/html": [
       "<div>\n",
       "<style scoped>\n",
       "    .dataframe tbody tr th:only-of-type {\n",
       "        vertical-align: middle;\n",
       "    }\n",
       "\n",
       "    .dataframe tbody tr th {\n",
       "        vertical-align: top;\n",
       "    }\n",
       "\n",
       "    .dataframe thead th {\n",
       "        text-align: right;\n",
       "    }\n",
       "</style>\n",
       "<table border=\"1\" class=\"dataframe\">\n",
       "  <thead>\n",
       "    <tr style=\"text-align: right;\">\n",
       "      <th></th>\n",
       "      <th>Unnamed: 0</th>\n",
       "      <th>store_title</th>\n",
       "      <th>store_description</th>\n",
       "      <th>store_collections</th>\n",
       "      <th>store_labels</th>\n",
       "    </tr>\n",
       "  </thead>\n",
       "  <tbody>\n",
       "    <tr>\n",
       "      <th>150819</th>\n",
       "      <td>150819</td>\n",
       "      <td>Gossip Girl Jewelry</td>\n",
       "      <td>Gossip Girl Jewelry</td>\n",
       "      <td>zi collection, frontpage, rings, necklaces, mi...</td>\n",
       "      <td>['jewelry']</td>\n",
       "    </tr>\n",
       "    <tr>\n",
       "      <th>439323</th>\n",
       "      <td>439323</td>\n",
       "      <td>Uncommon Now - The shop for unique gadgets, gi...</td>\n",
       "      <td>Uncommon Now is stocked full of unique must-ha...</td>\n",
       "      <td>all products</td>\n",
       "      <td>['gadget', 'gift']</td>\n",
       "    </tr>\n",
       "    <tr>\n",
       "      <th>38269</th>\n",
       "      <td>38269</td>\n",
       "      <td>Nini's Jewels - Shop Fine Jewelry</td>\n",
       "      <td>Shop Jewelry - We just updated our new Alexand...</td>\n",
       "      <td>cubic zirconia, rings, alexandrite</td>\n",
       "      <td>['jewelry']</td>\n",
       "    </tr>\n",
       "    <tr>\n",
       "      <th>430026</th>\n",
       "      <td>430026</td>\n",
       "      <td>Paper Thermometer™ | Temperature Indicating De...</td>\n",
       "      <td>Improving product safety, accuracy, and qualit...</td>\n",
       "      <td>cabinets furniture, 3 temp thermolabel, 8 temp...</td>\n",
       "      <td>['food']</td>\n",
       "    </tr>\n",
       "    <tr>\n",
       "      <th>570476</th>\n",
       "      <td>570476</td>\n",
       "      <td>SafetyScan Technologies Fitness for Duty screener</td>\n",
       "      <td>Impairment screening for alcohol, drugs and fa...</td>\n",
       "      <td>NaN</td>\n",
       "      <td>[]</td>\n",
       "    </tr>\n",
       "  </tbody>\n",
       "</table>\n",
       "</div>"
      ],
      "text/plain": [
       "        Unnamed: 0                                        store_title  \\\n",
       "150819      150819                               Gossip Girl Jewelry    \n",
       "439323      439323  Uncommon Now - The shop for unique gadgets, gi...   \n",
       "38269        38269                  Nini's Jewels - Shop Fine Jewelry   \n",
       "430026      430026  Paper Thermometer™ | Temperature Indicating De...   \n",
       "570476      570476  SafetyScan Technologies Fitness for Duty screener   \n",
       "\n",
       "                                        store_description  \\\n",
       "150819                               Gossip Girl Jewelry    \n",
       "439323  Uncommon Now is stocked full of unique must-ha...   \n",
       "38269   Shop Jewelry - We just updated our new Alexand...   \n",
       "430026  Improving product safety, accuracy, and qualit...   \n",
       "570476  Impairment screening for alcohol, drugs and fa...   \n",
       "\n",
       "                                        store_collections        store_labels  \n",
       "150819  zi collection, frontpage, rings, necklaces, mi...         ['jewelry']  \n",
       "439323                                       all products  ['gadget', 'gift']  \n",
       "38269                  cubic zirconia, rings, alexandrite         ['jewelry']  \n",
       "430026  cabinets furniture, 3 temp thermolabel, 8 temp...            ['food']  \n",
       "570476                                                NaN                  []  "
      ]
     },
     "execution_count": 6,
     "metadata": {},
     "output_type": "execute_result"
    }
   ],
   "source": [
    "df.sample(5)"
   ]
  },
  {
   "cell_type": "code",
   "execution_count": 7,
   "id": "5ea4c0f5-301c-4f87-9229-c9a1d6fd2032",
   "metadata": {},
   "outputs": [
    {
     "data": {
      "text/plain": [
       "Index(['Unnamed: 0', 'store_title', 'store_description', 'store_collections',\n",
       "       'store_labels'],\n",
       "      dtype='object')"
      ]
     },
     "execution_count": 7,
     "metadata": {},
     "output_type": "execute_result"
    }
   ],
   "source": [
    "df.columns"
   ]
  },
  {
   "cell_type": "code",
   "execution_count": 8,
   "id": "10505c36-c0fa-48aa-98af-53354d9ba5c1",
   "metadata": {},
   "outputs": [
    {
     "data": {
      "text/plain": [
       "Unnamed: 0            int64\n",
       "store_title          object\n",
       "store_description    object\n",
       "store_collections    object\n",
       "store_labels         object\n",
       "dtype: object"
      ]
     },
     "execution_count": 8,
     "metadata": {},
     "output_type": "execute_result"
    }
   ],
   "source": [
    "df.dtypes"
   ]
  },
  {
   "cell_type": "code",
   "execution_count": 9,
   "id": "67e16b75-ee01-47f0-b20e-ee3d70fa3597",
   "metadata": {},
   "outputs": [
    {
     "data": {
      "text/plain": [
       "(618768, 5)"
      ]
     },
     "execution_count": 9,
     "metadata": {},
     "output_type": "execute_result"
    }
   ],
   "source": [
    "df.shape"
   ]
  },
  {
   "cell_type": "markdown",
   "id": "29c438f7-42e8-4986-8a97-fce72d22ddfb",
   "metadata": {},
   "source": [
    "<div id=\"columns_renaming\" >\n",
    "    <h3>Columns renaming</h3>\n",
    "</div>"
   ]
  },
  {
   "cell_type": "code",
   "execution_count": 35,
   "id": "b7bbf034-4c1f-4b92-8cef-62d7c8a3bcf8",
   "metadata": {},
   "outputs": [],
   "source": [
    "df.columns = [\"id\",\"title\",\"description\",\"collections\",\"labels\"]"
   ]
  },
  {
   "cell_type": "markdown",
   "id": "7eef3468-844a-40b0-9dbd-5e64bd953575",
   "metadata": {},
   "source": [
    "<div id=\"handeling_missing_data\" >\n",
    "    <h3>Handeling missing data</h3>\n",
    "</div>"
   ]
  },
  {
   "cell_type": "markdown",
   "id": "4b60cde8-8f9e-4001-917f-496b14dd366c",
   "metadata": {},
   "source": [
    "#### the number of missing values per row"
   ]
  },
  {
   "cell_type": "code",
   "execution_count": 11,
   "id": "dcbc5259-1fe4-4f4a-b4ec-e564d1660647",
   "metadata": {},
   "outputs": [],
   "source": [
    "na_df = df.isna()"
   ]
  },
  {
   "cell_type": "code",
   "execution_count": 12,
   "id": "78aa08e2-a19b-49f5-ade9-a2f9611ea1f1",
   "metadata": {},
   "outputs": [
    {
     "data": {
      "text/plain": [
       "id                 0\n",
       "title            640\n",
       "description    25831\n",
       "collections    78804\n",
       "labels             0\n",
       "dtype: int64"
      ]
     },
     "execution_count": 12,
     "metadata": {},
     "output_type": "execute_result"
    }
   ],
   "source": [
    "na_df.sum()"
   ]
  },
  {
   "cell_type": "markdown",
   "id": "145c9172-8449-4275-bd8a-cd598599b0f2",
   "metadata": {},
   "source": [
    "#### the number of rows with at least one missing value"
   ]
  },
  {
   "cell_type": "code",
   "execution_count": 13,
   "id": "d1846230-e94e-4eca-8549-758238b4a9a2",
   "metadata": {},
   "outputs": [
    {
     "data": {
      "text/plain": [
       "105275"
      ]
     },
     "execution_count": 13,
     "metadata": {},
     "output_type": "execute_result"
    }
   ],
   "source": [
    "na_df[[\"title\",\"description\",\"collections\"]].sum(axis=1).sum()"
   ]
  },
  {
   "cell_type": "markdown",
   "id": "c7297658-45b6-4116-af8a-c8890ad4f17b",
   "metadata": {},
   "source": [
    "#### the number of rows where all values are nan"
   ]
  },
  {
   "cell_type": "code",
   "execution_count": 14,
   "id": "859e1ac1-5417-4bb4-8961-8110a1dad401",
   "metadata": {},
   "outputs": [
    {
     "data": {
      "text/plain": [
       "0"
      ]
     },
     "execution_count": 14,
     "metadata": {},
     "output_type": "execute_result"
    }
   ],
   "source": [
    "na_df[[\"title\",\"description\",\"collections\"]].prod(axis=1).sum()"
   ]
  },
  {
   "cell_type": "markdown",
   "id": "e7dc6057-9e82-4916-bac4-5fca73ed6c91",
   "metadata": {},
   "source": [
    "#### the number of rows with both description and the list collections being nan"
   ]
  },
  {
   "cell_type": "code",
   "execution_count": 15,
   "id": "bf26ce9b-2395-4ecb-822e-ee4655dbd2b8",
   "metadata": {},
   "outputs": [
    {
     "data": {
      "text/plain": [
       "403"
      ]
     },
     "execution_count": 15,
     "metadata": {},
     "output_type": "execute_result"
    }
   ],
   "source": [
    "na_df[[\"description\",\"collections\"]].prod(axis=1).sum()"
   ]
  },
  {
   "cell_type": "markdown",
   "id": "70882f52-9459-433b-a592-b8559416428b",
   "metadata": {},
   "source": [
    "#### Imputing missing values"
   ]
  },
  {
   "cell_type": "markdown",
   "id": "d76077fd-39e3-4a98-9de2-fdc27f4e953a",
   "metadata": {},
   "source": [
    "- Missing store description & store collection signifies that the user simply choose to not enter the description/list of collections for their store,hence they should be imputed with an empty string.\n",
    "- Dropping the rows with both the description and the list of collections being nan should be eliminated since a great predection can not be derived from short text such as the title alone.\n",
    "- Rows with an empty title can be dropped since the portion of such rows is very small."
   ]
  },
  {
   "cell_type": "code",
   "execution_count": 33,
   "id": "35ab5dcc-3f20-4a5d-8b08-6ceab21230a8",
   "metadata": {},
   "outputs": [],
   "source": [
    "def handle_missing_values(df: pd.DataFrame):\n",
    "    na_df = df.isna()\n",
    "    st_idx = df.index[na_df[\"title\"]]\n",
    "    sd_sc_idx = df.index[na_df[[\"description\",\"collections\"]].prod(axis=1) == 1]\n",
    "    idx = pd.Index.union(st_idx,sd_sc_idx)\n",
    "    df.drop(index=idx,inplace=True)\n",
    "    df.fillna(value=\"\",inplace=True)"
   ]
  },
  {
   "cell_type": "code",
   "execution_count": 36,
   "id": "466a9aac-27a0-4088-95f1-5d9e53a2b642",
   "metadata": {},
   "outputs": [],
   "source": [
    "handle_missing_values(df)"
   ]
  },
  {
   "cell_type": "code",
   "execution_count": 18,
   "id": "56e857fe-0de0-4354-bc9c-8dff2d9cc7af",
   "metadata": {},
   "outputs": [
    {
     "data": {
      "text/plain": [
       "id             0\n",
       "title          0\n",
       "description    0\n",
       "collections    0\n",
       "labels         0\n",
       "dtype: int64"
      ]
     },
     "execution_count": 18,
     "metadata": {},
     "output_type": "execute_result"
    }
   ],
   "source": [
    "df.isna().sum()"
   ]
  },
  {
   "cell_type": "markdown",
   "id": "405c269c-7d16-4717-b3bd-e5c527b900cc",
   "metadata": {},
   "source": [
    "<div id=\"handeling_duplicates\" >\n",
    "    <h3>Handeling duplicates</h3>\n",
    "</div>"
   ]
  },
  {
   "cell_type": "code",
   "execution_count": 19,
   "id": "ab2081d3-1983-439d-a0cb-cca168e7e0d6",
   "metadata": {},
   "outputs": [
    {
     "data": {
      "text/plain": [
       "0"
      ]
     },
     "execution_count": 19,
     "metadata": {},
     "output_type": "execute_result"
    }
   ],
   "source": [
    "df.duplicated().sum()"
   ]
  },
  {
   "cell_type": "code",
   "execution_count": 20,
   "id": "b5f32afd-741b-45a6-8d04-c3c05e034e65",
   "metadata": {},
   "outputs": [
    {
     "data": {
      "text/plain": [
       "0"
      ]
     },
     "execution_count": 20,
     "metadata": {},
     "output_type": "execute_result"
    }
   ],
   "source": [
    "df[\"id\"].duplicated().sum()"
   ]
  },
  {
   "cell_type": "markdown",
   "id": "e43a585e-6b4f-4e55-a5e9-57b7590de297",
   "metadata": {},
   "source": [
    "<div id=\"dropping_irrelevant_columns\" >\n",
    "    <h3>Dropping irrelevant columns</h3>\n",
    "</div>"
   ]
  },
  {
   "cell_type": "code",
   "execution_count": 21,
   "id": "1695fcea-18d0-43c3-9719-9801ac75694e",
   "metadata": {},
   "outputs": [],
   "source": [
    "df.drop(columns=[\"id\"],inplace=True)"
   ]
  },
  {
   "cell_type": "markdown",
   "id": "3982f3d2-32cf-4684-bc5a-06f4b08e5979",
   "metadata": {},
   "source": [
    "<div id=\"types_correction\" >\n",
    "    <h3>Types correction</h3>\n",
    "</div>"
   ]
  },
  {
   "cell_type": "markdown",
   "id": "3a0669ac-2718-4951-991e-bf1b7f9c5137",
   "metadata": {},
   "source": [
    "- Here the column \"lables\" is interpreted as string,it should be transformed to a list for more flexible manipulation."
   ]
  },
  {
   "cell_type": "code",
   "execution_count": 22,
   "id": "4175a155-e872-4ec3-8d3e-5396ed91d7ac",
   "metadata": {},
   "outputs": [],
   "source": [
    "def str_2_list(s):\n",
    "    s = s[1:-1]\n",
    "    if s != \"\":\n",
    "        s = s.split(\",\")\n",
    "        s = list(map(lambda x:x.strip()[1:-1], s))\n",
    "        return s\n",
    "    else:\n",
    "        return []"
   ]
  },
  {
   "cell_type": "code",
   "execution_count": 23,
   "id": "97d26851-1924-4314-bbd9-f76918feb5bd",
   "metadata": {},
   "outputs": [
    {
     "data": {
      "application/vnd.jupyter.widget-view+json": {
       "model_id": "72879e6e1c56412687b672ec0d90e410",
       "version_major": 2,
       "version_minor": 0
      },
      "text/plain": [
       "  0%|          | 0/617725 [00:00<?, ?it/s]"
      ]
     },
     "metadata": {},
     "output_type": "display_data"
    }
   ],
   "source": [
    "df[\"labels\"] = df[\"labels\"].progress_apply(str_2_list)"
   ]
  },
  {
   "cell_type": "code",
   "execution_count": 24,
   "id": "777cb5ad-1698-47cb-a7f8-ae5390de898c",
   "metadata": {},
   "outputs": [
    {
     "data": {
      "text/plain": [
       "0                         []\n",
       "1    [case, iphone, leather]\n",
       "2       [bracelet, boutique]\n",
       "3                  [fitness]\n",
       "4                         []\n",
       "Name: labels, dtype: object"
      ]
     },
     "execution_count": 24,
     "metadata": {},
     "output_type": "execute_result"
    }
   ],
   "source": [
    "df[\"labels\"].head()"
   ]
  },
  {
   "cell_type": "markdown",
   "id": "40bd3dd8-8844-4836-ba66-23c8e277a5c5",
   "metadata": {},
   "source": [
    "<div id=\"text_cleaning_and_preprocessing\" >\n",
    "    <h3>Text Cleaning and preprocessing</h3>\n",
    "</div>"
   ]
  },
  {
   "cell_type": "markdown",
   "id": "fa9568e9-6fa2-415b-b27a-925cb0ca3319",
   "metadata": {},
   "source": [
    "- Capilization : Transforming the text to lower case.\n",
    "- Noise Removal : Remove digits and spetial characters.\n",
    "- Tokenization : the process of breaking a piece of text into a sequence of words or phrases.\n",
    "- Stop words Removal : removing the most frequently used words that have no impact on the context of the text such as pronouncs.\n",
    "- Stemming : the process replacing the words in a text with their root,for example : playing,player -> play."
   ]
  },
  {
   "cell_type": "code",
   "execution_count": 25,
   "id": "6e8a7837-ff57-4531-9f41-467c5d5c9780",
   "metadata": {},
   "outputs": [],
   "source": [
    "stop_words = set(nltk.corpus.stopwords.words(\"english\"))"
   ]
  },
  {
   "cell_type": "code",
   "execution_count": 26,
   "id": "fc3fbe23-8e25-4286-b758-6ee9f789ff06",
   "metadata": {},
   "outputs": [],
   "source": [
    "spetial_chars = set(string.printable) - set(string.ascii_letters) - set(\" \")\n",
    "escaped_chars = [re.escape(c) for c in spetial_chars]\n",
    "regex = re.compile(f\"({'|'.join(escaped_chars)})\")"
   ]
  },
  {
   "cell_type": "code",
   "execution_count": 27,
   "id": "b16152bd-0e02-455f-8120-406dbfdd5e0c",
   "metadata": {},
   "outputs": [],
   "source": [
    "stemmer = nltk.stem.porter.PorterStemmer()"
   ]
  },
  {
   "cell_type": "code",
   "execution_count": 28,
   "id": "64661b20-04e3-41ae-80b5-9e5a3ea64981",
   "metadata": {},
   "outputs": [],
   "source": [
    "def transform(text):\n",
    "\n",
    "    # capitalization\n",
    "    text = text.lower()\n",
    "    \n",
    "    # noise removal\n",
    "    text = re.sub(regex,\" \",text)\n",
    "    \n",
    "    # tokenization\n",
    "    text = nltk.word_tokenize(text, language='english')\n",
    "        \n",
    "    # stop words removal\n",
    "    text = [word for word in text if word not in stop_words]\n",
    "    \n",
    "    # stemming\n",
    "    text = [stemmer.stem(word) for word in text]\n",
    "    \n",
    "    return ' '.join(text)"
   ]
  },
  {
   "cell_type": "code",
   "execution_count": 29,
   "id": "6aa25998-9c4a-4796-bf33-cbb347ac5820",
   "metadata": {},
   "outputs": [
    {
     "data": {
      "application/vnd.jupyter.widget-view+json": {
       "model_id": "a65fdd2c95b04b53a130539bb2f38a85",
       "version_major": 2,
       "version_minor": 0
      },
      "text/plain": [
       "  0%|          | 0/617725 [00:00<?, ?it/s]"
      ]
     },
     "metadata": {},
     "output_type": "display_data"
    }
   ],
   "source": [
    "df[\"title\"] = df[\"title\"].progress_apply(transform)"
   ]
  },
  {
   "cell_type": "code",
   "execution_count": 30,
   "id": "964cd986-70d8-4fee-9aef-48a14bcfc847",
   "metadata": {},
   "outputs": [
    {
     "data": {
      "application/vnd.jupyter.widget-view+json": {
       "model_id": "5db3485530724475a05971375516f3dd",
       "version_major": 2,
       "version_minor": 0
      },
      "text/plain": [
       "  0%|          | 0/617725 [00:00<?, ?it/s]"
      ]
     },
     "metadata": {},
     "output_type": "display_data"
    }
   ],
   "source": [
    "df[\"description\"] = df[\"description\"].progress_apply(transform)"
   ]
  },
  {
   "cell_type": "code",
   "execution_count": 31,
   "id": "cd7cf0a3-a226-4801-a9da-37175897caee",
   "metadata": {},
   "outputs": [
    {
     "data": {
      "application/vnd.jupyter.widget-view+json": {
       "model_id": "ce238e1e46284106918c67ddcfb37dc8",
       "version_major": 2,
       "version_minor": 0
      },
      "text/plain": [
       "  0%|          | 0/617725 [00:00<?, ?it/s]"
      ]
     },
     "metadata": {},
     "output_type": "display_data"
    }
   ],
   "source": [
    "df[\"collections\"] = df[\"collections\"].progress_apply(transform)"
   ]
  },
  {
   "cell_type": "markdown",
   "id": "b5c89931-c293-4f5d-9d8e-b0d1b3f88b9e",
   "metadata": {},
   "source": [
    "<div id=\"labels_preprocessing\" >\n",
    "    <h3>Labels preprocessing</h3>\n",
    "</div>"
   ]
  },
  {
   "cell_type": "markdown",
   "id": "725cdfd9-dad3-4511-8bf5-85d8f0a2c343",
   "metadata": {},
   "source": [
    "#### Get all the possible labels"
   ]
  },
  {
   "cell_type": "code",
   "execution_count": 32,
   "id": "9a27cb40-fd1d-4a72-97c5-b65f50c091ba",
   "metadata": {},
   "outputs": [],
   "source": [
    "class Labels:\n",
    "\n",
    "    def __init__(self):\n",
    "        self.values = set()\n",
    "\n",
    "    def add(self, x):\n",
    "        self.values = self.values.union(set(x))"
   ]
  },
  {
   "cell_type": "code",
   "execution_count": 33,
   "id": "e18dbd42-f110-43a8-b720-887f8a4d2c38",
   "metadata": {},
   "outputs": [],
   "source": [
    "labels = Labels()"
   ]
  },
  {
   "cell_type": "code",
   "execution_count": 34,
   "id": "70007fe9-9e8e-4b01-ba4c-4194362426fe",
   "metadata": {},
   "outputs": [
    {
     "data": {
      "application/vnd.jupyter.widget-view+json": {
       "model_id": "cf70e195d2404b95b64008333a4d435c",
       "version_major": 2,
       "version_minor": 0
      },
      "text/plain": [
       "  0%|          | 0/617725 [00:00<?, ?it/s]"
      ]
     },
     "metadata": {},
     "output_type": "display_data"
    }
   ],
   "source": [
    "_ = df[\"labels\"].progress_apply(labels.add)"
   ]
  },
  {
   "cell_type": "code",
   "execution_count": 35,
   "id": "bef70e1c-a5ad-4689-b137-954782ea05a2",
   "metadata": {},
   "outputs": [
    {
     "name": "stdout",
     "output_type": "stream",
     "text": [
      "the number of distinct labels is : 724\n"
     ]
    }
   ],
   "source": [
    "print(f\"the number of distinct labels is : {len(labels.values)}\")"
   ]
  },
  {
   "cell_type": "markdown",
   "id": "f9907812-0df8-474e-b736-d831c1784ad7",
   "metadata": {},
   "source": [
    "#### Store the labels in a sprase matrix for memory efficiency"
   ]
  },
  {
   "cell_type": "code",
   "execution_count": 36,
   "id": "fff8764b-8583-4747-83c3-1a4ab4980d00",
   "metadata": {},
   "outputs": [],
   "source": [
    "columns = []"
   ]
  },
  {
   "cell_type": "code",
   "execution_count": 37,
   "id": "f51d1438-7b9d-4fd7-a615-52bd6b573c53",
   "metadata": {},
   "outputs": [
    {
     "data": {
      "application/vnd.jupyter.widget-view+json": {
       "model_id": "0b8e05a9985144bf86e634db43fde6b2",
       "version_major": 2,
       "version_minor": 0
      },
      "text/plain": [
       "  0%|          | 0/724 [00:00<?, ?it/s]"
      ]
     },
     "metadata": {},
     "output_type": "display_data"
    }
   ],
   "source": [
    "for label in tqdm(labels.values):\n",
    "    col = df[\"labels\"].apply(lambda x: label in x).astype(np.int8)\n",
    "    col = sp.sparse.csr_matrix(col.values)\n",
    "    columns.append(col)\n",
    "    del col"
   ]
  },
  {
   "cell_type": "code",
   "execution_count": 38,
   "id": "1aea21a1-3f73-43e1-a26a-721f119419d7",
   "metadata": {},
   "outputs": [],
   "source": [
    "exploded_labels = sp.sparse.vstack(columns)"
   ]
  },
  {
   "cell_type": "markdown",
   "id": "2dbe62c5-70c9-4470-b07a-23519c233af0",
   "metadata": {},
   "source": [
    "#### Convert the sparse matrix to a sparse data frame"
   ]
  },
  {
   "cell_type": "code",
   "execution_count": 65,
   "id": "56ee82c2-139f-44ad-924f-51db2fc58781",
   "metadata": {},
   "outputs": [],
   "source": [
    "labels_df = pd.DataFrame.sparse.from_spmatrix(data=exploded_labels.T,index=df.index,columns=labels.values)"
   ]
  },
  {
   "cell_type": "markdown",
   "id": "120345ee-722a-4263-967d-4c7f06840256",
   "metadata": {},
   "source": [
    "<div id=\"save_to_disk\" >\n",
    "    <h3>Save the results to the disk</h3>\n",
    "</div>"
   ]
  },
  {
   "cell_type": "code",
   "execution_count": 62,
   "id": "a6a30160-0f02-4601-a210-bd65970074e6",
   "metadata": {},
   "outputs": [],
   "source": [
    "sp.sparse.save_npz(os.path.join(\"data\", \"y.npz\"), exploded_labels)"
   ]
  },
  {
   "cell_type": "code",
   "execution_count": null,
   "id": "c16a9471-7266-4cc7-a46a-34b56ea9bbfe",
   "metadata": {},
   "outputs": [],
   "source": [
    "labels_df.to_csv(os.path.join(\"data\", \"y.csv\"))"
   ]
  },
  {
   "cell_type": "code",
   "execution_count": 63,
   "id": "5b831706-6bb8-4b54-9b42-16d411e91297",
   "metadata": {},
   "outputs": [],
   "source": [
    "with open(os.path.join(\"data\",\"labels.txt\"), mode=\"w\") as f:\n",
    "    f.write(','.join(labels.values))"
   ]
  },
  {
   "cell_type": "code",
   "execution_count": 58,
   "id": "2e7f6260-139d-4747-ab44-cf07d9a23bc4",
   "metadata": {},
   "outputs": [
    {
     "data": {
      "application/vnd.jupyter.widget-view+json": {
       "model_id": "8264437f623842a4995468bd963f438c",
       "version_major": 2,
       "version_minor": 0
      },
      "text/plain": [
       "  0%|          | 0/617725 [00:00<?, ?it/s]"
      ]
     },
     "metadata": {},
     "output_type": "display_data"
    }
   ],
   "source": [
    "df[\"labels\"] = df[\"labels\"].progress_apply(json.dumps)"
   ]
  },
  {
   "cell_type": "code",
   "execution_count": 59,
   "id": "bc864bb6-12d3-4ceb-b14e-4383b3c77031",
   "metadata": {},
   "outputs": [],
   "source": [
    "df.to_csv(os.path.join(\"data\", \"data.csv\"))"
   ]
  },
  {
   "cell_type": "code",
   "execution_count": 16,
   "id": "fbfa3885-319a-4ec9-a6e9-f640f7880f41",
   "metadata": {},
   "outputs": [
    {
     "data": {
      "text/plain": [
       "'/home/abdelnour/Documents/4eme_anne/S1/ML/mini-project/project/data-cleaning/data.zip'"
      ]
     },
     "execution_count": 16,
     "metadata": {},
     "output_type": "execute_result"
    }
   ],
   "source": [
    "shutil.make_archive(\"data\", 'zip', \"data\")"
   ]
  },
  {
   "cell_type": "markdown",
   "id": "68e675f7-30e2-4331-94c4-0a0d87f62d84",
   "metadata": {},
   "source": [
    "<div id=\"notes\" >\n",
    "    <h3>Notes</h3>\n",
    "</div>"
   ]
  },
  {
   "cell_type": "markdown",
   "id": "ca894c6f-5840-4497-a3e1-3ea10d434a2e",
   "metadata": {},
   "source": [
    "- the zip file data contains 7 files:\n",
    "    - `data.csv`: the preprocessed data set,of size `193.9MB`.\n",
    "    - `y.csv`: the exploded labels in csv format, of size `851.1MB`.\n",
    "    - `y.npz`: the exploded labels stored as a sparse scipy matrix,of size: `2.7MB`\n",
    "    - `labels.txt`: the distinct labels stored as a comma seperated string,can be used in conjunction with `y.npz` instead of `y.csv` for memory efficiency.\n",
    "    - `reduces_y.npz`: the exploded reduced labels as a sparse matrix, of size `964.6KB` (see `labels.ipynb` for more details).\n",
    "    - `model.joblib`: the model used to map old labels to new labels, of size `1.7MB` (see `labels.ipynb` for more details).\n",
    "    - `model2.joblib`: the model used to map old labels to new labels, of size `1.1MB` (see `labels.ipynb` for more details)\n",
    "- The size of `data.zip` is : `94.1MB` (uncompressed : `1.1GB`),can be found at: https://drive.google.com/file/d/1HvovswN2RsHa72rb5TGhZEhZdTh2j1Pw/view?usp=sharing.\n",
    "- How to use `y.npz` instead of `y.csv` for memory efficiency,however you'll most likely be able to achieve what you want throught the column `labels` which is so much faster:\n",
    "\n",
    "  \n",
    "```python\n",
    "    import pandas as pd\n",
    "    import scipy\n",
    "\n",
    "    # read data.csv\n",
    "    df = pd.read_csv(\"<path-to-data.csv>\")\n",
    "\n",
    "    # read the labels\n",
    "    labels = None\n",
    "    with open(\"<path-to-labels.txt>\", \"r\") as f:\n",
    "        labels = f.read().split(\",\")\n",
    "        \n",
    "    sparse_y = scipy.sparse.load_npz(\"<path-to-y.npz>\")\n",
    "\n",
    "    # convert to a sparse df\n",
    "    df_y = pd.DataFrame.sparse.from_spmatrix(data=sparse_y.T,index=df.index,columns=labels)\n",
    "\n",
    "    # get all the rows where \"clothing is true\":\n",
    "    df[df_y[\"clothing\"] == 1]\n",
    "```\n",
    "- How load/save the dataset:\n",
    "    - since pandas doesn't serialize lists and confuse empty strings for nan values,use the functions `load_dataset` and `save_dataset` located in the file `utils.py` to load/save the dataset."
   ]
  },
  {
   "cell_type": "code",
   "execution_count": 13,
   "id": "eb90235b-815c-47c6-912c-c4ee8f12a901",
   "metadata": {},
   "outputs": [],
   "source": [
    "import pandas as pd\n",
    "df = pd.read_csv(\"data/data.csv\")"
   ]
  },
  {
   "cell_type": "code",
   "execution_count": 14,
   "id": "ab959ae1-605f-4cc1-bf5a-e74e9cd9162b",
   "metadata": {},
   "outputs": [
    {
     "data": {
      "text/plain": [
       "title              216\n",
       "description      25433\n",
       "collections      78550\n",
       "labels               0\n",
       "mapped labels        0\n",
       "dtype: int64"
      ]
     },
     "execution_count": 14,
     "metadata": {},
     "output_type": "execute_result"
    }
   ],
   "source": [
    "df.isna().sum()"
   ]
  },
  {
   "cell_type": "code",
   "execution_count": null,
   "id": "40c83be3-1e6a-4d25-b671-0da8992da113",
   "metadata": {},
   "outputs": [],
   "source": [
    "df"
   ]
  }
 ],
 "metadata": {
  "kernelspec": {
   "display_name": "Python 3 (ipykernel)",
   "language": "python",
   "name": "python3"
  },
  "language_info": {
   "codemirror_mode": {
    "name": "ipython",
    "version": 3
   },
   "file_extension": ".py",
   "mimetype": "text/x-python",
   "name": "python",
   "nbconvert_exporter": "python",
   "pygments_lexer": "ipython3",
   "version": "3.9.18"
  }
 },
 "nbformat": 4,
 "nbformat_minor": 5
}
