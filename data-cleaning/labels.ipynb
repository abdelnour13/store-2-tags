{
 "cells": [
  {
   "cell_type": "markdown",
   "id": "522a2780-7817-4ada-b153-fd6d36e5cbb5",
   "metadata": {},
   "source": [
    "<div>\n",
    "    <h1>\n",
    "        Reducing the Number of clusters\n",
    "    </h1>\n",
    "<div>"
   ]
  },
  {
   "cell_type": "markdown",
   "id": "f2da99da-4b36-4f74-967a-2b1bdd304e37",
   "metadata": {},
   "source": [
    "## Outline\n",
    "- [Necessary packages](#necessary_packages)\n",
    "- [Load the data](#load_the_data)\n",
    "- [Modeling and training](#modeling_and_training)\n",
    "- [Clustering ambiguous clusters](#clustering_ambiguous_clusters)\n",
    "- [Reassigning labels](#reassigning_labels)\n",
    "- [Save to the disk](#save_to_the_disk)"
   ]
  },
  {
   "cell_type": "markdown",
   "id": "ad7a5f73-d029-491a-b9b5-402537fba3a2",
   "metadata": {},
   "source": [
    "<div id=\"necessary_packages\" >\n",
    "    <h3>Necessary packages</h3>\n",
    "</div>"
   ]
  },
  {
   "cell_type": "code",
   "execution_count": 227,
   "id": "9482cc69-a71d-4607-95d7-1e29774e551f",
   "metadata": {},
   "outputs": [],
   "source": [
    "import scipy as sp\n",
    "import numpy as np\n",
    "import matplotlib.pyplot as plt\n",
    "import pandas as pd\n",
    "import json\n",
    "import os\n",
    "from sklearn.cluster import MiniBatchKMeans\n",
    "from tqdm.notebook import tqdm\n",
    "from itertools import product\n",
    "from joblib import dump\n",
    "import sys"
   ]
  },
  {
   "cell_type": "code",
   "execution_count": 2,
   "id": "eb3292af-fb99-4d2d-b449-7dc07dde1afc",
   "metadata": {},
   "outputs": [],
   "source": [
    "tqdm.pandas()"
   ]
  },
  {
   "cell_type": "markdown",
   "id": "ebfa0a2d-5acf-491e-91c7-cdad7ce79c89",
   "metadata": {},
   "source": [
    "<div id=\"load_the_data\" >\n",
    "    <h3>Load the data</h3>\n",
    "</div>"
   ]
  },
  {
   "cell_type": "code",
   "execution_count": 3,
   "id": "6805a0d7-3d66-49b8-81f4-784d13085e53",
   "metadata": {},
   "outputs": [],
   "source": [
    "X = sp.sparse.load_npz(os.path.join(\"data\",\"y.npz\")).T"
   ]
  },
  {
   "cell_type": "code",
   "execution_count": 4,
   "id": "198d9b3d-410b-4a23-99fd-29208eba37e2",
   "metadata": {},
   "outputs": [],
   "source": [
    "with open(os.path.join(\"data\",\"labels.txt\")) as f:\n",
    "    labels = np.array(f.read().split(\",\"))"
   ]
  },
  {
   "cell_type": "code",
   "execution_count": 5,
   "id": "57901031-cf1c-436c-8e59-79b4e66d65ad",
   "metadata": {},
   "outputs": [],
   "source": [
    "y = pd.read_csv(os.path.join(\"data\",\"data.csv\"),usecols=[\"labels\"])"
   ]
  },
  {
   "cell_type": "code",
   "execution_count": 6,
   "id": "e529af6a-28ef-4b0d-ae76-5d72cc0f1eb9",
   "metadata": {},
   "outputs": [],
   "source": [
    "y = y[\"labels\"].apply(json.loads)"
   ]
  },
  {
   "cell_type": "code",
   "execution_count": 7,
   "id": "78ce9c7c-9549-4e6d-abaa-b56db23a0e07",
   "metadata": {},
   "outputs": [],
   "source": [
    "mask = y.apply(lambda x: len(x) != 0)"
   ]
  },
  {
   "cell_type": "code",
   "execution_count": 8,
   "id": "8fa63d43-6dcf-42f7-9d23-fa314ecf5d69",
   "metadata": {},
   "outputs": [],
   "source": [
    "X = X[mask]"
   ]
  },
  {
   "cell_type": "code",
   "execution_count": 9,
   "id": "71b8a7d7-5ede-4f5b-a549-bcc418a506e8",
   "metadata": {},
   "outputs": [],
   "source": [
    "y = y[mask]"
   ]
  },
  {
   "cell_type": "markdown",
   "id": "f05de273-3741-4b99-81ec-01da4ebfd003",
   "metadata": {},
   "source": [
    "<div id=\"modeling_and_training\" >\n",
    "    <h3>Modeling and training</h3>\n",
    "</div>"
   ]
  },
  {
   "cell_type": "code",
   "execution_count": 67,
   "id": "681fe2ea-fed5-4ebe-80f3-59d692b0cd04",
   "metadata": {},
   "outputs": [],
   "source": [
    "model = MiniBatchKMeans(n_clusters=20,n_init=10)"
   ]
  },
  {
   "cell_type": "code",
   "execution_count": 68,
   "id": "76dea26a-41ad-4ac9-a16c-c3b12eaaa667",
   "metadata": {},
   "outputs": [
    {
     "data": {
      "text/html": [
       "<style>#sk-container-id-4 {color: black;}#sk-container-id-4 pre{padding: 0;}#sk-container-id-4 div.sk-toggleable {background-color: white;}#sk-container-id-4 label.sk-toggleable__label {cursor: pointer;display: block;width: 100%;margin-bottom: 0;padding: 0.3em;box-sizing: border-box;text-align: center;}#sk-container-id-4 label.sk-toggleable__label-arrow:before {content: \"▸\";float: left;margin-right: 0.25em;color: #696969;}#sk-container-id-4 label.sk-toggleable__label-arrow:hover:before {color: black;}#sk-container-id-4 div.sk-estimator:hover label.sk-toggleable__label-arrow:before {color: black;}#sk-container-id-4 div.sk-toggleable__content {max-height: 0;max-width: 0;overflow: hidden;text-align: left;background-color: #f0f8ff;}#sk-container-id-4 div.sk-toggleable__content pre {margin: 0.2em;color: black;border-radius: 0.25em;background-color: #f0f8ff;}#sk-container-id-4 input.sk-toggleable__control:checked~div.sk-toggleable__content {max-height: 200px;max-width: 100%;overflow: auto;}#sk-container-id-4 input.sk-toggleable__control:checked~label.sk-toggleable__label-arrow:before {content: \"▾\";}#sk-container-id-4 div.sk-estimator input.sk-toggleable__control:checked~label.sk-toggleable__label {background-color: #d4ebff;}#sk-container-id-4 div.sk-label input.sk-toggleable__control:checked~label.sk-toggleable__label {background-color: #d4ebff;}#sk-container-id-4 input.sk-hidden--visually {border: 0;clip: rect(1px 1px 1px 1px);clip: rect(1px, 1px, 1px, 1px);height: 1px;margin: -1px;overflow: hidden;padding: 0;position: absolute;width: 1px;}#sk-container-id-4 div.sk-estimator {font-family: monospace;background-color: #f0f8ff;border: 1px dotted black;border-radius: 0.25em;box-sizing: border-box;margin-bottom: 0.5em;}#sk-container-id-4 div.sk-estimator:hover {background-color: #d4ebff;}#sk-container-id-4 div.sk-parallel-item::after {content: \"\";width: 100%;border-bottom: 1px solid gray;flex-grow: 1;}#sk-container-id-4 div.sk-label:hover label.sk-toggleable__label {background-color: #d4ebff;}#sk-container-id-4 div.sk-serial::before {content: \"\";position: absolute;border-left: 1px solid gray;box-sizing: border-box;top: 0;bottom: 0;left: 50%;z-index: 0;}#sk-container-id-4 div.sk-serial {display: flex;flex-direction: column;align-items: center;background-color: white;padding-right: 0.2em;padding-left: 0.2em;position: relative;}#sk-container-id-4 div.sk-item {position: relative;z-index: 1;}#sk-container-id-4 div.sk-parallel {display: flex;align-items: stretch;justify-content: center;background-color: white;position: relative;}#sk-container-id-4 div.sk-item::before, #sk-container-id-4 div.sk-parallel-item::before {content: \"\";position: absolute;border-left: 1px solid gray;box-sizing: border-box;top: 0;bottom: 0;left: 50%;z-index: -1;}#sk-container-id-4 div.sk-parallel-item {display: flex;flex-direction: column;z-index: 1;position: relative;background-color: white;}#sk-container-id-4 div.sk-parallel-item:first-child::after {align-self: flex-end;width: 50%;}#sk-container-id-4 div.sk-parallel-item:last-child::after {align-self: flex-start;width: 50%;}#sk-container-id-4 div.sk-parallel-item:only-child::after {width: 0;}#sk-container-id-4 div.sk-dashed-wrapped {border: 1px dashed gray;margin: 0 0.4em 0.5em 0.4em;box-sizing: border-box;padding-bottom: 0.4em;background-color: white;}#sk-container-id-4 div.sk-label label {font-family: monospace;font-weight: bold;display: inline-block;line-height: 1.2em;}#sk-container-id-4 div.sk-label-container {text-align: center;}#sk-container-id-4 div.sk-container {/* jupyter's `normalize.less` sets `[hidden] { display: none; }` but bootstrap.min.css set `[hidden] { display: none !important; }` so we also need the `!important` here to be able to override the default hidden behavior on the sphinx rendered scikit-learn.org. See: https://github.com/scikit-learn/scikit-learn/issues/21755 */display: inline-block !important;position: relative;}#sk-container-id-4 div.sk-text-repr-fallback {display: none;}</style><div id=\"sk-container-id-4\" class=\"sk-top-container\"><div class=\"sk-text-repr-fallback\"><pre>MiniBatchKMeans(n_clusters=20, n_init=10)</pre><b>In a Jupyter environment, please rerun this cell to show the HTML representation or trust the notebook. <br />On GitHub, the HTML representation is unable to render, please try loading this page with nbviewer.org.</b></div><div class=\"sk-container\" hidden><div class=\"sk-item\"><div class=\"sk-estimator sk-toggleable\"><input class=\"sk-toggleable__control sk-hidden--visually\" id=\"sk-estimator-id-4\" type=\"checkbox\" checked><label for=\"sk-estimator-id-4\" class=\"sk-toggleable__label sk-toggleable__label-arrow\">MiniBatchKMeans</label><div class=\"sk-toggleable__content\"><pre>MiniBatchKMeans(n_clusters=20, n_init=10)</pre></div></div></div></div></div>"
      ],
      "text/plain": [
       "MiniBatchKMeans(n_clusters=20, n_init=10)"
      ]
     },
     "execution_count": 68,
     "metadata": {},
     "output_type": "execute_result"
    }
   ],
   "source": [
    "model.fit(X)"
   ]
  },
  {
   "cell_type": "markdown",
   "id": "6398bb60-da5d-49e2-b5de-30a54e249144",
   "metadata": {},
   "source": [
    "#### clusters naming"
   ]
  },
  {
   "cell_type": "code",
   "execution_count": 70,
   "id": "7e8317ed-2da0-491c-9798-bd3477152e9b",
   "metadata": {},
   "outputs": [
    {
     "data": {
      "text/plain": [
       "17        [indoor, security, camera, home, business, out...\n",
       "42        [indoor, pit, furniture, fire, grill, home, bb...\n",
       "72                               [lamp, home, mineral, oil]\n",
       "78                                 [kid, home, fun, gadget]\n",
       "143                               [home, fragrance, candle]\n",
       "                                ...                        \n",
       "617390    [security, aid, safety, fire, equipment, batte...\n",
       "617407                                               [home]\n",
       "617418                                [home, art, business]\n",
       "617494     [flower, bird, plant, print, home, card, animal]\n",
       "617654                                           [home, uk]\n",
       "Name: labels, Length: 10298, dtype: object"
      ]
     },
     "execution_count": 70,
     "metadata": {},
     "output_type": "execute_result"
    }
   ],
   "source": [
    "y[model.labels_ == 0] # home"
   ]
  },
  {
   "cell_type": "code",
   "execution_count": 71,
   "id": "8b7467b3-4461-476b-bb5a-b05efc1fa0d5",
   "metadata": {},
   "outputs": [
    {
     "data": {
      "text/plain": [
       "1                [case, iphone, leather]\n",
       "3                              [fitness]\n",
       "5                          [beauty, bag]\n",
       "8                              [ceramic]\n",
       "10                                [nail]\n",
       "                       ...              \n",
       "617713                 [luxury, handbag]\n",
       "617714                     [cbd, flower]\n",
       "617721                            [foot]\n",
       "617722    [belt, jacket, equipment, bag]\n",
       "617724            [pillow, towel, sheet]\n",
       "Name: labels, Length: 252673, dtype: object"
      ]
     },
     "execution_count": 71,
     "metadata": {},
     "output_type": "execute_result"
    }
   ],
   "source": [
    "y[model.labels_ == 1] #  bags"
   ]
  },
  {
   "cell_type": "code",
   "execution_count": 72,
   "id": "786fa90e-712e-4cd5-838e-b8ff8dde1b66",
   "metadata": {},
   "outputs": [
    {
     "data": {
      "text/plain": [
       "113                                     [apparel, shirt]\n",
       "127                                       [party, shirt]\n",
       "347                                              [shirt]\n",
       "388                                        [tool, shirt]\n",
       "416                                      [animal, shirt]\n",
       "                               ...                      \n",
       "617472                                  [apparel, shirt]\n",
       "617539    [bottom, kid, hoodies, apparel, shirt, sleeve]\n",
       "617668                                           [shirt]\n",
       "617692                       [mask, pant, sleeve, shirt]\n",
       "617710                                           [shirt]\n",
       "Name: labels, Length: 12970, dtype: object"
      ]
     },
     "execution_count": 72,
     "metadata": {},
     "output_type": "execute_result"
    }
   ],
   "source": [
    "y[model.labels_ == 2] # shirts"
   ]
  },
  {
   "cell_type": "code",
   "execution_count": 73,
   "id": "bae6ed2c-0a15-4e26-9354-9fe7b41c7c43",
   "metadata": {},
   "outputs": [
    {
     "data": {
      "text/plain": [
       "79                                  [cream, cbd, hemp, oil]\n",
       "85                                               [cbd, oil]\n",
       "259                                         [fun, ski, oil]\n",
       "311            [oil, bath, western, diffuser, candle, body]\n",
       "454       [kit, car, brake, oil, cover, series, engine, ...\n",
       "                                ...                        \n",
       "617425                                         [beard, oil]\n",
       "617568                                                [oil]\n",
       "617598             [hair, beard, oil, grooming, body, face]\n",
       "617649                                                [oil]\n",
       "617652                                          [body, oil]\n",
       "Name: labels, Length: 6667, dtype: object"
      ]
     },
     "execution_count": 73,
     "metadata": {},
     "output_type": "execute_result"
    }
   ],
   "source": [
    "y[model.labels_ == 3] # oil"
   ]
  },
  {
   "cell_type": "code",
   "execution_count": 74,
   "id": "85f87aec-7c9e-4867-9cb8-0b0eadff3631",
   "metadata": {},
   "outputs": [
    {
     "data": {
      "text/plain": [
       "20                                 [toy, single, art, book]\n",
       "170                                             [art, club]\n",
       "192       [painting, minimalist, art, black, flower, blu...\n",
       "437             [wall, hanging, art, room, decor, bohemian]\n",
       "462                          [art, tea, game, green, print]\n",
       "                                ...                        \n",
       "617620            [art, handmade, birthday, card, bracelet]\n",
       "617647                                      [painting, art]\n",
       "617664                                   [nail, art, brush]\n",
       "617677                                        [modern, art]\n",
       "617684        [art, cushion, valley, boutique, print, card]\n",
       "Name: labels, Length: 10834, dtype: object"
      ]
     },
     "execution_count": 74,
     "metadata": {},
     "output_type": "execute_result"
    }
   ],
   "source": [
    "y[model.labels_ == 4] # arts"
   ]
  },
  {
   "cell_type": "code",
   "execution_count": 75,
   "id": "408e358c-ff65-4643-a603-cc2d379313ba",
   "metadata": {},
   "outputs": [
    {
     "data": {
      "text/plain": [
       "146                      [jewelry, earring, necklace, ring]\n",
       "271            [necklace, wedding, ring, bracelet, earring]\n",
       "469       [watch, necklace, jewelry, gift, ring, earring...\n",
       "536            [necklace, diamond, ring, bracelet, earring]\n",
       "652       [necklace, band, jewelry, luxury, ring, gold, ...\n",
       "                                ...                        \n",
       "617233                [necklace, band, jewelry, gift, ring]\n",
       "617318    [diamond, necklace, clothing, bracelet, earrin...\n",
       "617415          [diamond, jewelry, ring, bracelet, earring]\n",
       "617550    [natural, diamond, band, necklace, gift, weddi...\n",
       "617679    [necklace, jewelry, clothing, occasion, ring, ...\n",
       "Name: labels, Length: 7678, dtype: object"
      ]
     },
     "execution_count": 75,
     "metadata": {},
     "output_type": "execute_result"
    }
   ],
   "source": [
    "y[model.labels_ == 5] # accessories"
   ]
  },
  {
   "cell_type": "code",
   "execution_count": 76,
   "id": "8251d58a-8955-4200-9128-f02fc3a897ba",
   "metadata": {},
   "outputs": [
    {
     "data": {
      "text/plain": [
       "39        [mask, kid, hoodies, print, shirt, pant, 3d, f...\n",
       "44        [short, australian, denim, pant, clothing, sus...\n",
       "301       [book, backpack, clothing, gaming, gift, toy, ...\n",
       "374                          [watch, clothing, shoe, shirt]\n",
       "384       [modern, sport, fit, clothing, shirt, pant, ja...\n",
       "                                ...                        \n",
       "617484                                    [clothing, shirt]\n",
       "617507                               [kid, clothing, shirt]\n",
       "617586                                    [clothing, shirt]\n",
       "617597    [polo, short, tank, hoodies, sweat, apparel, s...\n",
       "617659    [baby, shoe, clothing, cap, hoodies, sock, coa...\n",
       "Name: labels, Length: 6793, dtype: object"
      ]
     },
     "execution_count": 76,
     "metadata": {},
     "output_type": "execute_result"
    }
   ],
   "source": [
    "y[model.labels_ == 6] # clothing"
   ]
  },
  {
   "cell_type": "code",
   "execution_count": 77,
   "id": "d9c4522f-0091-403d-86d4-510826ed7bb5",
   "metadata": {},
   "outputs": [
    {
     "data": {
      "text/plain": [
       "101                              [und, smart]\n",
       "268                                     [und]\n",
       "368                                     [und]\n",
       "1350                                    [und]\n",
       "1419                                    [und]\n",
       "                         ...                 \n",
       "616583                                  [und]\n",
       "616803                                  [und]\n",
       "616872                                  [und]\n",
       "617611                   [organic, und, sock]\n",
       "617683    [die, diver, dental, hand, 3d, und]\n",
       "Name: labels, Length: 3349, dtype: object"
      ]
     },
     "execution_count": 77,
     "metadata": {},
     "output_type": "execute_result"
    }
   ],
   "source": [
    "y[model.labels_ == 7] # und"
   ]
  },
  {
   "cell_type": "code",
   "execution_count": 78,
   "id": "e0f1e0e1-97ad-4205-b16b-ebccc061aef7",
   "metadata": {},
   "outputs": [
    {
     "data": {
      "text/plain": [
       "25        [bottom, hair, jewelry, clothing, boutique, de...\n",
       "359                          [home, gift, halloween, decor]\n",
       "732       [modern, art, decor, home, table, lighting, fu...\n",
       "737       [cushion, ceramic, incense, clothing, turkish,...\n",
       "833       [art, cushion, canvas, decor, print, home, car...\n",
       "                                ...                        \n",
       "616690    [collectible, speaker, supply, jewelry, reel, ...\n",
       "616850    [linen, wall, clothing, gift, decor, room, kid...\n",
       "616960    [dining, jewelry, gift, decor, home, lighting,...\n",
       "617281                              [home, clothing, decor]\n",
       "617712           [handmade, decor, home, toy, wooden, wood]\n",
       "Name: labels, Length: 5530, dtype: object"
      ]
     },
     "execution_count": 78,
     "metadata": {},
     "output_type": "execute_result"
    }
   ],
   "source": [
    "y[model.labels_ == 8] # home & furniture"
   ]
  },
  {
   "cell_type": "code",
   "execution_count": 79,
   "id": "ff47e271-4078-47fa-81ef-1f279cc96eed",
   "metadata": {},
   "outputs": [
    {
     "data": {
      "text/plain": [
       "51               [beauty, clothing]\n",
       "106                      [clothing]\n",
       "117                      [clothing]\n",
       "136                      [clothing]\n",
       "165                      [clothing]\n",
       "                    ...            \n",
       "617618                   [clothing]\n",
       "617633    [kid, boutique, clothing]\n",
       "617639                   [clothing]\n",
       "617658             [clothing, shoe]\n",
       "617716                   [clothing]\n",
       "Name: labels, Length: 33251, dtype: object"
      ]
     },
     "execution_count": 79,
     "metadata": {},
     "output_type": "execute_result"
    }
   ],
   "source": [
    "y[model.labels_ == 9] # clothing"
   ]
  },
  {
   "cell_type": "code",
   "execution_count": 80,
   "id": "a8ea34bb-a10d-45c1-93c4-9c0d25d67e3a",
   "metadata": {},
   "outputs": [
    {
     "data": {
      "text/plain": [
       "30        [para, gadget, appliance]\n",
       "31                           [para]\n",
       "63                           [para]\n",
       "574                          [para]\n",
       "893                          [para]\n",
       "                    ...            \n",
       "617013                       [para]\n",
       "617108                       [para]\n",
       "617176              [sneaker, para]\n",
       "617551                       [para]\n",
       "617653              [para, natural]\n",
       "Name: labels, Length: 4578, dtype: object"
      ]
     },
     "execution_count": 80,
     "metadata": {},
     "output_type": "execute_result"
    }
   ],
   "source": [
    "y[model.labels_ == 10] # para"
   ]
  },
  {
   "cell_type": "code",
   "execution_count": 81,
   "id": "2e471618-2ffd-40d3-8b83-2ea8ac710788",
   "metadata": {},
   "outputs": [
    {
     "data": {
      "text/plain": [
       "12370                               [golf, clothing, glove]\n",
       "26182                                 [golf, supply, glove]\n",
       "27250                                 [golf, disc, apparel]\n",
       "27525     [golf, shoe, aid, glove, equipment, ball, putt...\n",
       "30990     [golf, shoe, clothing, glove, gift, apparel, b...\n",
       "                                ...                        \n",
       "606320                                      [golf, apparel]\n",
       "610826    [golf, club, aid, swing, glove, grip, cover, n...\n",
       "613707                                        [golf, glove]\n",
       "615242                             [apparel, safety, glove]\n",
       "615453                   [golf, sport, glove, leather, hat]\n",
       "Name: labels, Length: 117, dtype: object"
      ]
     },
     "execution_count": 81,
     "metadata": {},
     "output_type": "execute_result"
    }
   ],
   "source": [
    "y[model.labels_ == 11] # golf"
   ]
  },
  {
   "cell_type": "code",
   "execution_count": 82,
   "id": "17afca41-f72e-4625-ad07-20362f658725",
   "metadata": {},
   "outputs": [
    {
     "data": {
      "text/plain": [
       "15                                     [dog, blanket, gift]\n",
       "26                                                   [gift]\n",
       "69                                                   [gift]\n",
       "130                   [shower, gel, gift, bath, deer, body]\n",
       "134                      [funny, love, gift, leather, wine]\n",
       "                                ...                        \n",
       "617495    [blanket, handmade, birthday, gift, card, towe...\n",
       "617504                          [spice, blend, sauce, gift]\n",
       "617506                 [gift, holder, leather, wallet, bag]\n",
       "617650                                 [rose, flower, gift]\n",
       "617704    [sport, car, tool, health, gift, toy, phone, p...\n",
       "Name: labels, Length: 14782, dtype: object"
      ]
     },
     "execution_count": 82,
     "metadata": {},
     "output_type": "execute_result"
    }
   ],
   "source": [
    "y[model.labels_ == 12] # gift"
   ]
  },
  {
   "cell_type": "code",
   "execution_count": 83,
   "id": "80fe24c2-749a-4165-8d84-d39b3d51dd69",
   "metadata": {},
   "outputs": [
    {
     "data": {
      "text/plain": [
       "139                                        [home, clothing]\n",
       "432               [jewelry, clothing, spirit, home, silver]\n",
       "436       [sport, appliance, supply, electronics, game, ...\n",
       "479                      [home, sport, electronics, garden]\n",
       "633                                [home, gadget, clothing]\n",
       "                                ...                        \n",
       "617124                  [flower, garden, plant, gift, home]\n",
       "617182    [electronics, camera, home, phone, gadget, drone]\n",
       "617307                                [kitchen, home, life]\n",
       "617308    [cushion, garden, bath, home, bedding, luxury,...\n",
       "617316                                     [home, clothing]\n",
       "Name: labels, Length: 4080, dtype: object"
      ]
     },
     "execution_count": 83,
     "metadata": {},
     "output_type": "execute_result"
    }
   ],
   "source": [
    "y[model.labels_ == 13] # home"
   ]
  },
  {
   "cell_type": "code",
   "execution_count": 84,
   "id": "743ece35-32dc-450b-8148-727e42013cff",
   "metadata": {},
   "outputs": [
    {
     "data": {
      "text/plain": [
       "272                                                   [dog]\n",
       "317       [bangle, jewelry, gift, dog, memorial, pet, le...\n",
       "331                              [dog, supply, animal, pet]\n",
       "430                                          [dog, bandana]\n",
       "477                                                   [dog]\n",
       "                                ...                        \n",
       "616923                                      [dog, pet, bed]\n",
       "616932                                         [dog, treat]\n",
       "617016                              [dog, supply, pet, cat]\n",
       "617296                                [door, dog, pet, cat]\n",
       "617365             [bandana, handmade, dog, collar, native]\n",
       "Name: labels, Length: 5920, dtype: object"
      ]
     },
     "execution_count": 84,
     "metadata": {},
     "output_type": "execute_result"
    }
   ],
   "source": [
    "y[model.labels_ == 14] # pets"
   ]
  },
  {
   "cell_type": "code",
   "execution_count": 85,
   "id": "5f520520-98c5-4e8a-819c-cd0399c4ac29",
   "metadata": {},
   "outputs": [
    {
     "data": {
      "text/plain": [
       "61        [baby, natural, australian, hair, oil, organic...\n",
       "109       [hair, bed, salon, cream, equipment, eye, trea...\n",
       "169                                       [treatment, skin]\n",
       "232                                    [organic, cbd, skin]\n",
       "353                                      [ingredient, skin]\n",
       "                                ...                        \n",
       "617258                              [beauty, natural, body]\n",
       "617401              [hair, lash, lounge, bar, beauty, face]\n",
       "617604                                         [body, skin]\n",
       "617638                     [treatment, hair, skin, healthy]\n",
       "617662           [hair, natural, cake, vegan, beauty, skin]\n",
       "Name: labels, Length: 7284, dtype: object"
      ]
     },
     "execution_count": 85,
     "metadata": {},
     "output_type": "execute_result"
    }
   ],
   "source": [
    "y[model.labels_ == 15] # health & self care"
   ]
  },
  {
   "cell_type": "code",
   "execution_count": 87,
   "id": "44a002e7-9df1-4397-9236-2d19dbfc5c77",
   "metadata": {},
   "outputs": [
    {
     "data": {
      "text/plain": [
       "2                  [bracelet, boutique]\n",
       "16                           [boutique]\n",
       "36                           [boutique]\n",
       "56                           [boutique]\n",
       "122                          [boutique]\n",
       "                      ...              \n",
       "617431                       [boutique]\n",
       "617435    [hat, bandana, boutique, cap]\n",
       "617480                       [boutique]\n",
       "617656                       [boutique]\n",
       "617705               [boutique, flower]\n",
       "Name: labels, Length: 8334, dtype: object"
      ]
     },
     "execution_count": 87,
     "metadata": {},
     "output_type": "execute_result"
    }
   ],
   "source": [
    "y[model.labels_ == 16] # boutique"
   ]
  },
  {
   "cell_type": "code",
   "execution_count": 88,
   "id": "ae839e58-12d3-4dee-8579-b00331d45787",
   "metadata": {},
   "outputs": [
    {
     "data": {
      "text/plain": [
       "92                            [disc, apparel, gear, flight]\n",
       "124                                        [gear, footwear]\n",
       "138                             [gear, series, green, drum]\n",
       "141                                                  [gear]\n",
       "148       [gear, baby, blanket, clothing, toy, maternity...\n",
       "                                ...                        \n",
       "617014    [rifle, sport, gear, art, knife, tactical, gun...\n",
       "617461                                       [racing, gear]\n",
       "617466    [vitamin, gear, nutrition, weight, joint, prot...\n",
       "617642                                       [racing, gear]\n",
       "617717                                               [gear]\n",
       "Name: labels, Length: 5440, dtype: object"
      ]
     },
     "execution_count": 88,
     "metadata": {},
     "output_type": "execute_result"
    }
   ],
   "source": [
    "y[model.labels_ == 17] # gear"
   ]
  },
  {
   "cell_type": "code",
   "execution_count": 89,
   "id": "e8aa51a5-761b-4fef-80e4-4b3c33b23fad",
   "metadata": {},
   "outputs": [
    {
     "data": {
      "text/plain": [
       "23                                            [apparel]\n",
       "37                                       [apparel, car]\n",
       "94                                  [apparel, intimate]\n",
       "147                 [indoor, sport, apparel, equipment]\n",
       "168                                   [travel, apparel]\n",
       "                              ...                      \n",
       "617413                                   [apparel, tee]\n",
       "617442                              [apparel, clothing]\n",
       "617593    [equipment, football, apparel, hockey, stick]\n",
       "617627                                        [apparel]\n",
       "617681                                        [apparel]\n",
       "Name: labels, Length: 10870, dtype: object"
      ]
     },
     "execution_count": 89,
     "metadata": {},
     "output_type": "execute_result"
    }
   ],
   "source": [
    "y[model.labels_ == 18] # apparel"
   ]
  },
  {
   "cell_type": "code",
   "execution_count": 90,
   "id": "10f49bae-2527-4156-aa69-d0234a1753d1",
   "metadata": {},
   "outputs": [
    {
     "data": {
      "text/plain": [
       "108                                     [jewelry, handmade]\n",
       "114                                         [jewelry, tool]\n",
       "133                                         [jewelry, love]\n",
       "159       [jewelry, clothing, gift, football, texas, ear...\n",
       "191                      [jewelry, earring, clothing, gold]\n",
       "                                ...                        \n",
       "617410                                   [jewelry, crystal]\n",
       "617444                                            [jewelry]\n",
       "617498                   [memorial, jewelry, keepsake, pet]\n",
       "617520                                            [jewelry]\n",
       "617544                              [jewelry, tennis, gift]\n",
       "Name: labels, Length: 10938, dtype: object"
      ]
     },
     "execution_count": 90,
     "metadata": {},
     "output_type": "execute_result"
    }
   ],
   "source": [
    "y[model.labels_ == 19] # jewelry"
   ]
  },
  {
   "cell_type": "code",
   "execution_count": 94,
   "id": "267d2ed7-20c5-4860-be2b-091396cc5804",
   "metadata": {},
   "outputs": [],
   "source": [
    "names = np.array([\n",
    "    \"home\",\"bags\",\"shirts\",\"oil\",\"arts\",\"accessories\",\n",
    "    \"clothing\",\"und\",\"home & furniture\",\"clothing\",\"para\",\n",
    "    \"golf\",\"gift\",\"electronics\",\"pets\",\"health & self care\",\"boutique\",\"gear\",\n",
    "    \"apparel\",\"jewelry\"\n",
    "])"
   ]
  },
  {
   "cell_type": "markdown",
   "id": "339b6d49-8f1d-457c-bd22-115c99042de0",
   "metadata": {},
   "source": [
    "<div id=\"clustering_ambiguous_clusters\" >\n",
    "    <h3> Clustering ambiguous clusters</h3>\n",
    "</div>"
   ]
  },
  {
   "cell_type": "code",
   "execution_count": 98,
   "id": "32df46f8-c94f-401e-82f3-eb854cb2add9",
   "metadata": {},
   "outputs": [],
   "source": [
    "model2 = MiniBatchKMeans(n_clusters=20,n_init=10)"
   ]
  },
  {
   "cell_type": "code",
   "execution_count": 99,
   "id": "92b20800-a52e-442f-81a2-d8bc65810d4b",
   "metadata": {},
   "outputs": [],
   "source": [
    "X2 = X[model.labels_ == 1]"
   ]
  },
  {
   "cell_type": "code",
   "execution_count": 100,
   "id": "387e1569-9609-4c9e-b799-aeecf863909b",
   "metadata": {},
   "outputs": [
    {
     "data": {
      "text/html": [
       "<style>#sk-container-id-5 {color: black;}#sk-container-id-5 pre{padding: 0;}#sk-container-id-5 div.sk-toggleable {background-color: white;}#sk-container-id-5 label.sk-toggleable__label {cursor: pointer;display: block;width: 100%;margin-bottom: 0;padding: 0.3em;box-sizing: border-box;text-align: center;}#sk-container-id-5 label.sk-toggleable__label-arrow:before {content: \"▸\";float: left;margin-right: 0.25em;color: #696969;}#sk-container-id-5 label.sk-toggleable__label-arrow:hover:before {color: black;}#sk-container-id-5 div.sk-estimator:hover label.sk-toggleable__label-arrow:before {color: black;}#sk-container-id-5 div.sk-toggleable__content {max-height: 0;max-width: 0;overflow: hidden;text-align: left;background-color: #f0f8ff;}#sk-container-id-5 div.sk-toggleable__content pre {margin: 0.2em;color: black;border-radius: 0.25em;background-color: #f0f8ff;}#sk-container-id-5 input.sk-toggleable__control:checked~div.sk-toggleable__content {max-height: 200px;max-width: 100%;overflow: auto;}#sk-container-id-5 input.sk-toggleable__control:checked~label.sk-toggleable__label-arrow:before {content: \"▾\";}#sk-container-id-5 div.sk-estimator input.sk-toggleable__control:checked~label.sk-toggleable__label {background-color: #d4ebff;}#sk-container-id-5 div.sk-label input.sk-toggleable__control:checked~label.sk-toggleable__label {background-color: #d4ebff;}#sk-container-id-5 input.sk-hidden--visually {border: 0;clip: rect(1px 1px 1px 1px);clip: rect(1px, 1px, 1px, 1px);height: 1px;margin: -1px;overflow: hidden;padding: 0;position: absolute;width: 1px;}#sk-container-id-5 div.sk-estimator {font-family: monospace;background-color: #f0f8ff;border: 1px dotted black;border-radius: 0.25em;box-sizing: border-box;margin-bottom: 0.5em;}#sk-container-id-5 div.sk-estimator:hover {background-color: #d4ebff;}#sk-container-id-5 div.sk-parallel-item::after {content: \"\";width: 100%;border-bottom: 1px solid gray;flex-grow: 1;}#sk-container-id-5 div.sk-label:hover label.sk-toggleable__label {background-color: #d4ebff;}#sk-container-id-5 div.sk-serial::before {content: \"\";position: absolute;border-left: 1px solid gray;box-sizing: border-box;top: 0;bottom: 0;left: 50%;z-index: 0;}#sk-container-id-5 div.sk-serial {display: flex;flex-direction: column;align-items: center;background-color: white;padding-right: 0.2em;padding-left: 0.2em;position: relative;}#sk-container-id-5 div.sk-item {position: relative;z-index: 1;}#sk-container-id-5 div.sk-parallel {display: flex;align-items: stretch;justify-content: center;background-color: white;position: relative;}#sk-container-id-5 div.sk-item::before, #sk-container-id-5 div.sk-parallel-item::before {content: \"\";position: absolute;border-left: 1px solid gray;box-sizing: border-box;top: 0;bottom: 0;left: 50%;z-index: -1;}#sk-container-id-5 div.sk-parallel-item {display: flex;flex-direction: column;z-index: 1;position: relative;background-color: white;}#sk-container-id-5 div.sk-parallel-item:first-child::after {align-self: flex-end;width: 50%;}#sk-container-id-5 div.sk-parallel-item:last-child::after {align-self: flex-start;width: 50%;}#sk-container-id-5 div.sk-parallel-item:only-child::after {width: 0;}#sk-container-id-5 div.sk-dashed-wrapped {border: 1px dashed gray;margin: 0 0.4em 0.5em 0.4em;box-sizing: border-box;padding-bottom: 0.4em;background-color: white;}#sk-container-id-5 div.sk-label label {font-family: monospace;font-weight: bold;display: inline-block;line-height: 1.2em;}#sk-container-id-5 div.sk-label-container {text-align: center;}#sk-container-id-5 div.sk-container {/* jupyter's `normalize.less` sets `[hidden] { display: none; }` but bootstrap.min.css set `[hidden] { display: none !important; }` so we also need the `!important` here to be able to override the default hidden behavior on the sphinx rendered scikit-learn.org. See: https://github.com/scikit-learn/scikit-learn/issues/21755 */display: inline-block !important;position: relative;}#sk-container-id-5 div.sk-text-repr-fallback {display: none;}</style><div id=\"sk-container-id-5\" class=\"sk-top-container\"><div class=\"sk-text-repr-fallback\"><pre>MiniBatchKMeans(n_clusters=20, n_init=10)</pre><b>In a Jupyter environment, please rerun this cell to show the HTML representation or trust the notebook. <br />On GitHub, the HTML representation is unable to render, please try loading this page with nbviewer.org.</b></div><div class=\"sk-container\" hidden><div class=\"sk-item\"><div class=\"sk-estimator sk-toggleable\"><input class=\"sk-toggleable__control sk-hidden--visually\" id=\"sk-estimator-id-5\" type=\"checkbox\" checked><label for=\"sk-estimator-id-5\" class=\"sk-toggleable__label sk-toggleable__label-arrow\">MiniBatchKMeans</label><div class=\"sk-toggleable__content\"><pre>MiniBatchKMeans(n_clusters=20, n_init=10)</pre></div></div></div></div></div>"
      ],
      "text/plain": [
       "MiniBatchKMeans(n_clusters=20, n_init=10)"
      ]
     },
     "execution_count": 100,
     "metadata": {},
     "output_type": "execute_result"
    }
   ],
   "source": [
    "model2.fit(X2)"
   ]
  },
  {
   "cell_type": "code",
   "execution_count": 101,
   "id": "f9f41a43-af18-44b9-aa93-227a612853aa",
   "metadata": {},
   "outputs": [
    {
     "data": {
      "text/plain": [
       "613                       [pillow, tea, tile, cover, towel]\n",
       "685                           [tea, chocolate, box, coffee]\n",
       "1654                                   [tea, organic, hand]\n",
       "2341                                        [tea, wellness]\n",
       "2794           [fish, beef, tea, gluten, wine, white, herb]\n",
       "                                ...                        \n",
       "616403                                       [tea, vitamin]\n",
       "617081                                 [tea, blend, coffee]\n",
       "617423                         [organic, tea, herbal, leaf]\n",
       "617640    [fair, blend, delicious, trade, tea, blue, org...\n",
       "617663                                        [tea, herbal]\n",
       "Name: labels, Length: 2631, dtype: object"
      ]
     },
     "execution_count": 101,
     "metadata": {},
     "output_type": "execute_result"
    }
   ],
   "source": [
    "y[model.labels_ == 1][model2.labels_ == 0] # tea"
   ]
  },
  {
   "cell_type": "code",
   "execution_count": 102,
   "id": "f6d46a5b-2fcf-487f-be0e-b272f7f550f1",
   "metadata": {},
   "outputs": [
    {
     "data": {
      "text/plain": [
       "8                              [ceramic]\n",
       "10                                [nail]\n",
       "11                                 [gel]\n",
       "12                  [incense, fragrance]\n",
       "19                         [bike, spray]\n",
       "                       ...              \n",
       "617713                 [luxury, handbag]\n",
       "617714                     [cbd, flower]\n",
       "617721                            [foot]\n",
       "617722    [belt, jacket, equipment, bag]\n",
       "617724            [pillow, towel, sheet]\n",
       "Name: labels, Length: 183348, dtype: object"
      ]
     },
     "execution_count": 102,
     "metadata": {},
     "output_type": "execute_result"
    }
   ],
   "source": [
    "y[model.labels_ == 1][model2.labels_ == 1] # others"
   ]
  },
  {
   "cell_type": "code",
   "execution_count": 103,
   "id": "367be61c-9b81-4299-b3e2-05f284e40243",
   "metadata": {},
   "outputs": [
    {
     "data": {
      "text/plain": [
       "696                 [mug, banner, tshirts, equipment]\n",
       "1059             [mug, junior, football, phone, case]\n",
       "1562                              [mug, board, cover]\n",
       "1684      [mug, flower, bee, ceramic, garden, nature]\n",
       "2132                                      [mug, moon]\n",
       "                             ...                     \n",
       "612846                                     [mug, bag]\n",
       "613522                                  [modern, mug]\n",
       "614174                              [tea, glass, mug]\n",
       "616193                   [mug, case, fantasy, gadget]\n",
       "617317                             [mug, mask, black]\n",
       "Name: labels, Length: 843, dtype: object"
      ]
     },
     "execution_count": 103,
     "metadata": {},
     "output_type": "execute_result"
    }
   ],
   "source": [
    "y[model.labels_ == 1][model2.labels_ == 2] # mugs"
   ]
  },
  {
   "cell_type": "code",
   "execution_count": 104,
   "id": "a6d207ff-34c7-4cf0-8064-378248e2a041",
   "metadata": {},
   "outputs": [
    {
     "data": {
      "text/plain": [
       "358          [mask, face, crystal]\n",
       "995                   [mask, face]\n",
       "1007         [mask, african, face]\n",
       "1163      [mask, body, face, hand]\n",
       "1191      [mask, glove, equipment]\n",
       "                    ...           \n",
       "617283                      [mask]\n",
       "617290      [mask, cotton, fabric]\n",
       "617336      [mask, medical, glove]\n",
       "617448                      [mask]\n",
       "617542                      [mask]\n",
       "Name: labels, Length: 3305, dtype: object"
      ]
     },
     "execution_count": 104,
     "metadata": {},
     "output_type": "execute_result"
    }
   ],
   "source": [
    "y[model.labels_ == 1][model2.labels_ == 3] # mask"
   ]
  },
  {
   "cell_type": "code",
   "execution_count": 106,
   "id": "7fe97340-10be-4e83-aa15-901286597910",
   "metadata": {},
   "outputs": [
    {
     "data": {
      "text/plain": [
       "303                                        [nature, health]\n",
       "881                                       [healthy, health]\n",
       "1187                              [body, nutrition, health]\n",
       "1554         [natural, tree, organic, health, herbal, life]\n",
       "1638                                      [grocery, health]\n",
       "                                ...                        \n",
       "617060                              [yoga, massage, health]\n",
       "617392                                [supply, kid, health]\n",
       "617515                         [nature, supplement, health]\n",
       "617580    [health, wellness, love, tracker, studio, seri...\n",
       "617708                                             [health]\n",
       "Name: labels, Length: 2690, dtype: object"
      ]
     },
     "execution_count": 106,
     "metadata": {},
     "output_type": "execute_result"
    }
   ],
   "source": [
    "y[model.labels_ == 1][model2.labels_ == 4] # health"
   ]
  },
  {
   "cell_type": "code",
   "execution_count": 107,
   "id": "2e9da6d3-7778-4b5f-bf85-d0cd056a04e3",
   "metadata": {},
   "outputs": [
    {
     "data": {
      "text/plain": [
       "5                           [beauty, bag]\n",
       "87                        [beauty, light]\n",
       "188                              [beauty]\n",
       "342                              [beauty]\n",
       "377                              [beauty]\n",
       "                       ...               \n",
       "617065    [sandal, beauty, footwear, spa]\n",
       "617131                           [beauty]\n",
       "617187                           [beauty]\n",
       "617469                           [beauty]\n",
       "617634                  [organic, beauty]\n",
       "Name: labels, Length: 5477, dtype: object"
      ]
     },
     "execution_count": 107,
     "metadata": {},
     "output_type": "execute_result"
    }
   ],
   "source": [
    "y[model.labels_ == 1][model2.labels_ == 5] # beauty"
   ]
  },
  {
   "cell_type": "code",
   "execution_count": 108,
   "id": "2a5f904a-3d62-4062-8571-7d176651f89d",
   "metadata": {},
   "outputs": [
    {
     "data": {
      "text/plain": [
       "46                       [handmade, chocolate, box]\n",
       "71                                [handmade, blend]\n",
       "186                      [bottom, handmade, bikini]\n",
       "441                     [ceramic, handmade, studio]\n",
       "520       [pattern, handmade, tote, yarn, kit, bag]\n",
       "                            ...                    \n",
       "616327                                   [handmade]\n",
       "616813                       [handmade, hair, clip]\n",
       "616938                         [handmade, moroccan]\n",
       "616961                                   [handmade]\n",
       "617615                             [handmade, shoe]\n",
       "Name: labels, Length: 2730, dtype: object"
      ]
     },
     "execution_count": 108,
     "metadata": {},
     "output_type": "execute_result"
    }
   ],
   "source": [
    "y[model.labels_ == 1][model2.labels_ == 6] # handmade"
   ]
  },
  {
   "cell_type": "code",
   "execution_count": 111,
   "id": "af876859-8ea5-446e-b891-4cc1f74fcfe4",
   "metadata": {},
   "outputs": [
    {
     "data": {
      "text/plain": [
       "152                                             [shoe, bag]\n",
       "210                                            [baby, shoe]\n",
       "213                                                  [shoe]\n",
       "229             [shoe, club, bikini, lingerie, party, pool]\n",
       "361                                         [sneaker, shoe]\n",
       "                                ...                        \n",
       "617078    [shoe, jacket, family, beauty, handbag, underw...\n",
       "617092                                  [baby, party, shoe]\n",
       "617121                                         [shoe, hair]\n",
       "617477                                  [electronics, shoe]\n",
       "617548                                               [shoe]\n",
       "Name: labels, Length: 4919, dtype: object"
      ]
     },
     "execution_count": 111,
     "metadata": {},
     "output_type": "execute_result"
    }
   ],
   "source": [
    "y[model.labels_ == 1][model2.labels_ == 7] # shoes"
   ]
  },
  {
   "cell_type": "code",
   "execution_count": 112,
   "id": "ced25f2c-c464-4f63-b642-5864bcff2d35",
   "metadata": {},
   "outputs": [
    {
     "data": {
      "text/plain": [
       "911         [extension, lash, tray, supply, beauty]\n",
       "978                      [nail, beauty, hair, tool]\n",
       "1043                                 [beauty, hair]\n",
       "1139                      [beauty, natural, health]\n",
       "1429               [nail, lash, wig, comic, beauty]\n",
       "                            ...                    \n",
       "616678                                [beauty, lip]\n",
       "616783                       [beauty, supply, hair]\n",
       "616880                                [beauty, lip]\n",
       "617607    [school, hair, tool, supply, beauty, kit]\n",
       "617687                         [beauty, silk, lash]\n",
       "Name: labels, Length: 2224, dtype: object"
      ]
     },
     "execution_count": 112,
     "metadata": {},
     "output_type": "execute_result"
    }
   ],
   "source": [
    "y[model.labels_ == 1][model2.labels_ == 8] # beauty"
   ]
  },
  {
   "cell_type": "code",
   "execution_count": 113,
   "id": "ee7dd5d3-59c9-4868-a849-a770afb156e6",
   "metadata": {},
   "outputs": [
    {
     "data": {
      "text/plain": [
       "65        [craft, tool, cleaner, cutter, dental, 3d, mac...\n",
       "246       [tool, diamond, floor, stone, concrete, vacuum...\n",
       "406                             [metal, tool, silver, hand]\n",
       "422                   [sheet, tool, supply, concrete, hand]\n",
       "464                                           [power, tool]\n",
       "                                ...                        \n",
       "617067                                   [protection, tool]\n",
       "617117                                         [tool, pest]\n",
       "617195                                      [planter, tool]\n",
       "617266                                               [tool]\n",
       "617301                                       [tool, coffee]\n",
       "Name: labels, Length: 3773, dtype: object"
      ]
     },
     "execution_count": 113,
     "metadata": {},
     "output_type": "execute_result"
    }
   ],
   "source": [
    "y[model.labels_ == 1][model2.labels_ == 9]  # tools"
   ]
  },
  {
   "cell_type": "code",
   "execution_count": 114,
   "id": "69ed3d7b-9d98-44fe-9542-77a534223146",
   "metadata": {},
   "outputs": [
    {
     "data": {
      "text/plain": [
       "116                                      [coffee]\n",
       "221                                      [coffee]\n",
       "409                        [cup, roasted, coffee]\n",
       "566                                      [coffee]\n",
       "910                             [roaster, coffee]\n",
       "                           ...                   \n",
       "616886    [coffee, blue, espresso, line, machine]\n",
       "617064                                   [coffee]\n",
       "617475                                   [coffee]\n",
       "617594                              [bar, coffee]\n",
       "617676                                   [coffee]\n",
       "Name: labels, Length: 4790, dtype: object"
      ]
     },
     "execution_count": 114,
     "metadata": {},
     "output_type": "execute_result"
    }
   ],
   "source": [
    "y[model.labels_ == 1][model2.labels_ == 10] # coffee"
   ]
  },
  {
   "cell_type": "code",
   "execution_count": 115,
   "id": "288302fa-0be7-4b71-90bc-79e029b9209c",
   "metadata": {},
   "outputs": [
    {
     "data": {
      "text/plain": [
       "32               [display, tool, board, wireless, led, kit]\n",
       "58        [sea, filter, food, aquarium, supplement, ligh...\n",
       "284                              [supply, car, school, kit]\n",
       "344                                              [gel, kit]\n",
       "485                                 [body, suspension, kit]\n",
       "                                ...                        \n",
       "617288                                          [club, kit]\n",
       "617303                     [sport, club, aid, medical, kit]\n",
       "617408                                         [decal, kit]\n",
       "617578                     [healthy, glove, mask, mat, kit]\n",
       "617637                                           [pod, kit]\n",
       "Name: labels, Length: 5442, dtype: object"
      ]
     },
     "execution_count": 115,
     "metadata": {},
     "output_type": "execute_result"
    }
   ],
   "source": [
    "y[model.labels_ == 1][model2.labels_ == 11] # kit"
   ]
  },
  {
   "cell_type": "code",
   "execution_count": 116,
   "id": "16032b15-5f35-49af-99a4-049b71be01c3",
   "metadata": {},
   "outputs": [
    {
     "data": {
      "text/plain": [
       "70                                                [organic]\n",
       "202                                               [organic]\n",
       "219                  [glass, kid, eye, cat, sunglass, face]\n",
       "235       [duvet, sheet, bed, pillow, organic, cotton, c...\n",
       "264                                    [kid, sandal, water]\n",
       "                                ...                        \n",
       "617293                                [organic, cold, brew]\n",
       "617367    [bed, office, lounge, kid, chair, dining, furn...\n",
       "617524                                        [kid, series]\n",
       "617574                       [organic, raw, honey, natural]\n",
       "617608                                            [organic]\n",
       "Name: labels, Length: 6273, dtype: object"
      ]
     },
     "execution_count": 116,
     "metadata": {},
     "output_type": "execute_result"
    }
   ],
   "source": [
    "y[model.labels_ == 1][model2.labels_ == 12] # organic"
   ]
  },
  {
   "cell_type": "code",
   "execution_count": 117,
   "id": "545dec2a-7e78-4bae-a982-14c017cfa6eb",
   "metadata": {},
   "outputs": [
    {
     "data": {
      "text/plain": [
       "162                                [hair]\n",
       "163               [bundle, hair, fantasy]\n",
       "428                                [hair]\n",
       "496                         [denim, hair]\n",
       "664       [bundle, extension, hair, hand]\n",
       "                       ...               \n",
       "617225                             [hair]\n",
       "617226                             [hair]\n",
       "617334                             [hair]\n",
       "617344                             [hair]\n",
       "617585                  [extension, hair]\n",
       "Name: labels, Length: 6442, dtype: object"
      ]
     },
     "execution_count": 117,
     "metadata": {},
     "output_type": "execute_result"
    }
   ],
   "source": [
    "y[model.labels_ == 1][model2.labels_ == 13] # hair"
   ]
  },
  {
   "cell_type": "code",
   "execution_count": 118,
   "id": "61dfa73e-ec3a-4e04-ad14-a791ff8bb065",
   "metadata": {},
   "outputs": [
    {
     "data": {
      "text/plain": [
       "218                                          [love]\n",
       "682                   [fun, gadget, wireless, love]\n",
       "707                                          [love]\n",
       "792                                    [love, ring]\n",
       "989                                          [love]\n",
       "                            ...                    \n",
       "616522                          [little, love, ash]\n",
       "616723    [black, adult, love, doll, silicone, sex]\n",
       "617022            [little, love, cover, phone, hat]\n",
       "617297                                [love, comic]\n",
       "617468                                       [love]\n",
       "Name: labels, Length: 2631, dtype: object"
      ]
     },
     "execution_count": 118,
     "metadata": {},
     "output_type": "execute_result"
    }
   ],
   "source": [
    "y[model.labels_ == 1][model2.labels_ == 14] # love"
   ]
  },
  {
   "cell_type": "code",
   "execution_count": 119,
   "id": "f9107914-318d-4ed0-b995-06a62256628f",
   "metadata": {},
   "outputs": [
    {
     "data": {
      "text/plain": [
       "145                                                  [life]\n",
       "394                                  [beauty, travel, life]\n",
       "557                                                  [life]\n",
       "899                                                  [life]\n",
       "1346                                                 [life]\n",
       "                                ...                        \n",
       "616817                                         [book, life]\n",
       "616943                                               [life]\n",
       "617069                                               [life]\n",
       "617137    [baby, teacher, birthday, kid, wedding, life, ...\n",
       "617519                                          [car, life]\n",
       "Name: labels, Length: 2753, dtype: object"
      ]
     },
     "execution_count": 119,
     "metadata": {},
     "output_type": "execute_result"
    }
   ],
   "source": [
    "y[model.labels_ == 1][model2.labels_ == 15] # life"
   ]
  },
  {
   "cell_type": "code",
   "execution_count": 120,
   "id": "bdf6ccc9-7491-47c3-8abe-057a93eb50ae",
   "metadata": {},
   "outputs": [
    {
     "data": {
      "text/plain": [
       "3                                                 [fitness]\n",
       "67                                                [fitness]\n",
       "337                                               [fitness]\n",
       "417       [watch, car, tool, game, fitness, equipment, c...\n",
       "706                                               [fitness]\n",
       "                                ...                        \n",
       "617112                                            [fitness]\n",
       "617130                                     [dance, fitness]\n",
       "617244        [running, bundle, headphone, fitness, travel]\n",
       "617430             [band, fitness, workout, resistance, uk]\n",
       "617621                                 [fitness, triathlon]\n",
       "Name: labels, Length: 2533, dtype: object"
      ]
     },
     "execution_count": 120,
     "metadata": {},
     "output_type": "execute_result"
    }
   ],
   "source": [
    "y[model.labels_ == 1][model2.labels_ == 16] # fitness"
   ]
  },
  {
   "cell_type": "code",
   "execution_count": 122,
   "id": "7fe36a44-aa43-41e5-92ef-5610cc3f0027",
   "metadata": {},
   "outputs": [
    {
     "data": {
      "text/plain": [
       "1                                   [case, iphone, leather]\n",
       "653                            [hat, cap, leather, folding]\n",
       "700                                               [leather]\n",
       "1405                               [lingerie, toy, leather]\n",
       "1496      [watch, chain, handmade, strap, leather, case,...\n",
       "                                ...                        \n",
       "616133                                            [leather]\n",
       "617118                                            [leather]\n",
       "617388                                            [leather]\n",
       "617474                                   [leather, handbag]\n",
       "617536    [golf, sport, short, trunk, denim, board, leat...\n",
       "Name: labels, Length: 3518, dtype: object"
      ]
     },
     "execution_count": 122,
     "metadata": {},
     "output_type": "execute_result"
    }
   ],
   "source": [
    "y[model.labels_ == 1][model2.labels_ == 17] # leather"
   ]
  },
  {
   "cell_type": "code",
   "execution_count": 123,
   "id": "dbc4338d-4044-4066-9c58-d12e4dae0ba6",
   "metadata": {},
   "outputs": [
    {
     "data": {
      "text/plain": [
       "244                                  [book]\n",
       "554                   [poster, print, book]\n",
       "786                                  [book]\n",
       "840                                  [book]\n",
       "1097                          [book, child]\n",
       "                        ...                \n",
       "616714                               [book]\n",
       "616804                               [book]\n",
       "616827                               [book]\n",
       "617238    [book, card, cutter, fun, fabric]\n",
       "617589                      [book, leather]\n",
       "Name: labels, Length: 3046, dtype: object"
      ]
     },
     "execution_count": 123,
     "metadata": {},
     "output_type": "execute_result"
    }
   ],
   "source": [
    "y[model.labels_ == 1][model2.labels_ == 18] # books"
   ]
  },
  {
   "cell_type": "code",
   "execution_count": 124,
   "id": "a4bcde66-dfc6-438f-9068-ca2d8494ee3c",
   "metadata": {},
   "outputs": [
    {
     "data": {
      "text/plain": [
       "161                   [natural, organic, bath, vegan, body]\n",
       "308       [natural, cross, tote, leather, wood, body, ha...\n",
       "403                                       [mat, yoga, body]\n",
       "451                  [natural, organic, soap, candle, body]\n",
       "510                                            [bath, body]\n",
       "                                ...                        \n",
       "616549     [baby, natural, wellness, organic, body, family]\n",
       "616769                                   [bath, body, soap]\n",
       "616809                       [bath, body, australian, soap]\n",
       "617417                                               [body]\n",
       "617566                                               [body]\n",
       "Name: labels, Length: 3305, dtype: object"
      ]
     },
     "execution_count": 124,
     "metadata": {},
     "output_type": "execute_result"
    }
   ],
   "source": [
    "y[model.labels_ == 1][model2.labels_ == 19] # body care"
   ]
  },
  {
   "cell_type": "code",
   "execution_count": 204,
   "id": "6134143f-d0f3-4537-b892-f246d7014bcc",
   "metadata": {},
   "outputs": [],
   "source": [
    "names = np.array([\n",
    "    \"home\",\"bags\",\"shirts\",\"oil\",\"arts\",\"accessories\",\n",
    "    \"clothing\",\"und\",\"home & furniture\",\"clothing\",\"para\",\n",
    "    \"golf\",\"gift\",\"home\",\"pets\",\"health & self care\",\"boutique\",\"gear\",\n",
    "    \"apparel\",\"jewelry\",\"tea\",\"others\",\"mugs\",\"mask\",\"health\",\"beauty\",\"handmade\",\"shoes\",\"beauty\",\n",
    "    \"tools\",\"coffee\",\"kit\",\"organic\",\"hair\",\"love\",\"life\",\"fitness\",\"leather\",\"books\",\"body care\"\n",
    "])"
   ]
  },
  {
   "cell_type": "markdown",
   "id": "abcf9666-03c5-497f-bb60-721989f9e76c",
   "metadata": {},
   "source": [
    "<div id=\"reassigning_labels\" >\n",
    "    <h3>Reassigning the labels</h3>\n",
    "</div>"
   ]
  },
  {
   "cell_type": "code",
   "execution_count": 231,
   "id": "b1090b80-5244-4589-b6e1-a2a79debe359",
   "metadata": {},
   "outputs": [],
   "source": [
    "def load_dataset(path: str):\n",
    "    df = pd.read_csv(path)\n",
    "    df[\"labels\"] = df[\"labels\"].apply(json.loads)\n",
    "    # df[\"mapped labels\"] = df[\"mapped labels\"].apply(json.loads)\n",
    "    df.fillna(\"\")\n",
    "    return df"
   ]
  },
  {
   "cell_type": "code",
   "execution_count": 232,
   "id": "a2c655bb-ee88-452b-8190-d501ed070cc0",
   "metadata": {},
   "outputs": [],
   "source": [
    "def save_dataset(df: pd.DataFrame, path: str):\n",
    "    df[\"labels\"] = df[\"labels\"].apply(json.dumps)\n",
    "    df[\"mapped labels\"] = df[\"mapped labels\"].apply(json.dumps)\n",
    "    df.to_csv(path)"
   ]
  },
  {
   "cell_type": "code",
   "execution_count": 233,
   "id": "2b7180aa-b71d-433f-9a21-7d8308fd6c75",
   "metadata": {},
   "outputs": [],
   "source": [
    "def predict_label(X):\n",
    "    y1 = model.predict(X)\n",
    "    y2 = model2.predict(X)\n",
    "    return np.where(y1 != 1,y1,20 + y2)"
   ]
  },
  {
   "cell_type": "code",
   "execution_count": 245,
   "id": "9b1d3164-523b-4c50-8548-1d4b58692b56",
   "metadata": {},
   "outputs": [],
   "source": [
    "_X = sp.sparse.eye(m=labels.shape[0])"
   ]
  },
  {
   "cell_type": "code",
   "execution_count": 246,
   "id": "6dbaec2c-5e61-4aa2-8c2a-4ddfced5e61a",
   "metadata": {},
   "outputs": [],
   "source": [
    "_Y = predict_label(_X)"
   ]
  },
  {
   "cell_type": "code",
   "execution_count": 253,
   "id": "0c30c4f0-3dd6-487d-ad42-61f61434d704",
   "metadata": {},
   "outputs": [],
   "source": [
    "def reassign_labels(x):\n",
    "    x = [_Y[labels == label][0] for label in x]\n",
    "    x = names[list(set(x))]\n",
    "    if len(x) > 1 and \"others\" in x:\n",
    "        x = x[x != \"others\"]\n",
    "    return x.tolist()"
   ]
  },
  {
   "cell_type": "code",
   "execution_count": 254,
   "id": "a4626e6f-9606-4b68-92c4-1a83bb03e158",
   "metadata": {},
   "outputs": [],
   "source": [
    "df = load_dataset(os.path.join(\"data\",\"data.csv\"))"
   ]
  },
  {
   "cell_type": "code",
   "execution_count": 255,
   "id": "d6081beb-c5f9-4fac-8f1c-c71793197e6e",
   "metadata": {},
   "outputs": [
    {
     "data": {
      "application/vnd.jupyter.widget-view+json": {
       "model_id": "69ee3e6bd8b342178aa56c938fd7c42c",
       "version_major": 2,
       "version_minor": 0
      },
      "text/plain": [
       "  0%|          | 0/617725 [00:00<?, ?it/s]"
      ]
     },
     "metadata": {},
     "output_type": "display_data"
    }
   ],
   "source": [
    "df[\"mapped labels\"] = df[\"labels\"].progress_apply(reassign_labels)"
   ]
  },
  {
   "cell_type": "markdown",
   "id": "851682ce-8546-4494-baba-eacd53178a0b",
   "metadata": {},
   "source": [
    "#### Convert labels to sparse matrix"
   ]
  },
  {
   "cell_type": "code",
   "execution_count": 257,
   "id": "40b79948-8801-4b7d-934a-8343417d885a",
   "metadata": {},
   "outputs": [],
   "source": [
    "columns = []"
   ]
  },
  {
   "cell_type": "code",
   "execution_count": 259,
   "id": "bd271810-43e9-4feb-bd5f-774bbab4a55e",
   "metadata": {},
   "outputs": [
    {
     "data": {
      "application/vnd.jupyter.widget-view+json": {
       "model_id": "b5301fd5178d42a2a2f64442105bf142",
       "version_major": 2,
       "version_minor": 0
      },
      "text/plain": [
       "  0%|          | 0/40 [00:00<?, ?it/s]"
      ]
     },
     "metadata": {},
     "output_type": "display_data"
    }
   ],
   "source": [
    "for label in tqdm(names):\n",
    "    col = df[\"mapped labels\"].apply(lambda x: label in x).astype(np.int8)\n",
    "    col = sp.sparse.csr_matrix(col.values)\n",
    "    columns.append(col)\n",
    "    del col"
   ]
  },
  {
   "cell_type": "code",
   "execution_count": 260,
   "id": "d7c0b9fe-ca01-4c5a-b773-6891ea8c071e",
   "metadata": {},
   "outputs": [],
   "source": [
    "exploded_labels = sp.sparse.vstack(columns)"
   ]
  },
  {
   "cell_type": "markdown",
   "id": "846f67b4-c229-43e3-9f89-c842dc4f5be2",
   "metadata": {},
   "source": [
    "<div id=\"save_to_the_disk\" >\n",
    "    <h3>Save to the disk</h3>\n",
    "</div>"
   ]
  },
  {
   "cell_type": "code",
   "execution_count": 256,
   "id": "4ab3a6a2-5681-4011-80b6-3e3400dd6f41",
   "metadata": {},
   "outputs": [],
   "source": [
    "save_dataset(df = df,path = os.path.join(\"data\",\"data.csv\"))"
   ]
  },
  {
   "cell_type": "code",
   "execution_count": 262,
   "id": "7e97248b-0d0c-45ca-949f-9d5656131d3a",
   "metadata": {},
   "outputs": [
    {
     "data": {
      "text/plain": [
       "['data/model.joblib']"
      ]
     },
     "execution_count": 262,
     "metadata": {},
     "output_type": "execute_result"
    }
   ],
   "source": [
    "dump(value = model,filename = os.path.join(\"data\",\"model.joblib\"))"
   ]
  },
  {
   "cell_type": "code",
   "execution_count": 263,
   "id": "78e4467c-981c-4b0a-a60e-4be8abd55fe1",
   "metadata": {},
   "outputs": [
    {
     "data": {
      "text/plain": [
       "['data/model2.joblib']"
      ]
     },
     "execution_count": 263,
     "metadata": {},
     "output_type": "execute_result"
    }
   ],
   "source": [
    "dump(value = model2,filename = os.path.join(\"data\",\"model2.joblib\"))"
   ]
  },
  {
   "cell_type": "code",
   "execution_count": 217,
   "id": "7cbfd2d0-517b-4ba6-bbca-4787977d838f",
   "metadata": {},
   "outputs": [],
   "source": [
    "df.to_csv(os.path.join(\"data\",\"data.csv\"))"
   ]
  },
  {
   "cell_type": "code",
   "execution_count": 261,
   "id": "4bb75ee2-24a2-429f-9154-32d0f6de55ac",
   "metadata": {},
   "outputs": [],
   "source": [
    "sp.sparse.save_npz(os.path.join(\"data\", \"reduced_y.npz\"), exploded_labels)"
   ]
  }
 ],
 "metadata": {
  "kernelspec": {
   "display_name": "Python 3 (ipykernel)",
   "language": "python",
   "name": "python3"
  },
  "language_info": {
   "codemirror_mode": {
    "name": "ipython",
    "version": 3
   },
   "file_extension": ".py",
   "mimetype": "text/x-python",
   "name": "python",
   "nbconvert_exporter": "python",
   "pygments_lexer": "ipython3",
   "version": "3.9.18"
  }
 },
 "nbformat": 4,
 "nbformat_minor": 5
}
